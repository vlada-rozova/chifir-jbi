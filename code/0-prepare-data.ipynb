{
 "cells": [
  {
   "cell_type": "code",
   "execution_count": 1,
   "id": "8745c00d",
   "metadata": {},
   "outputs": [],
   "source": [
    "import numpy as np\n",
    "import pandas as pd\n",
    "from utils.dataset import *\n",
    "from utils.text import clean_text"
   ]
  },
  {
   "cell_type": "markdown",
   "id": "48667ec5",
   "metadata": {},
   "source": [
    "___\n",
    "# Load cytology and histopathology reports\n",
    "### Load metadata"
   ]
  },
  {
   "cell_type": "code",
   "execution_count": 2,
   "id": "266d14c6",
   "metadata": {},
   "outputs": [
    {
     "name": "stdout",
     "output_type": "stream",
     "text": [
      "(283, 7)\n"
     ]
    },
    {
     "data": {
      "text/html": [
       "<div>\n",
       "<style scoped>\n",
       "    .dataframe tbody tr th:only-of-type {\n",
       "        vertical-align: middle;\n",
       "    }\n",
       "\n",
       "    .dataframe tbody tr th {\n",
       "        vertical-align: top;\n",
       "    }\n",
       "\n",
       "    .dataframe thead th {\n",
       "        text-align: right;\n",
       "    }\n",
       "</style>\n",
       "<table border=\"1\" class=\"dataframe\">\n",
       "  <thead>\n",
       "    <tr style=\"text-align: right;\">\n",
       "      <th></th>\n",
       "      <th>patient_id</th>\n",
       "      <th>report_no</th>\n",
       "      <th>y_report</th>\n",
       "      <th>is_ifi_episode</th>\n",
       "      <th>histopathology_id</th>\n",
       "      <th>val_fold</th>\n",
       "      <th>dataset</th>\n",
       "    </tr>\n",
       "  </thead>\n",
       "  <tbody>\n",
       "    <tr>\n",
       "      <th>0</th>\n",
       "      <td>13</td>\n",
       "      <td>1</td>\n",
       "      <td>Positive</td>\n",
       "      <td>Yes</td>\n",
       "      <td>658</td>\n",
       "      <td>10.0</td>\n",
       "      <td>development</td>\n",
       "    </tr>\n",
       "    <tr>\n",
       "      <th>1</th>\n",
       "      <td>14</td>\n",
       "      <td>1</td>\n",
       "      <td>Positive</td>\n",
       "      <td>Yes</td>\n",
       "      <td>189</td>\n",
       "      <td>7.0</td>\n",
       "      <td>development</td>\n",
       "    </tr>\n",
       "    <tr>\n",
       "      <th>2</th>\n",
       "      <td>28</td>\n",
       "      <td>1</td>\n",
       "      <td>Negative</td>\n",
       "      <td>No</td>\n",
       "      <td>529</td>\n",
       "      <td>8.0</td>\n",
       "      <td>development</td>\n",
       "    </tr>\n",
       "    <tr>\n",
       "      <th>3</th>\n",
       "      <td>28</td>\n",
       "      <td>2</td>\n",
       "      <td>Positive</td>\n",
       "      <td>Yes</td>\n",
       "      <td>325</td>\n",
       "      <td>8.0</td>\n",
       "      <td>development</td>\n",
       "    </tr>\n",
       "    <tr>\n",
       "      <th>4</th>\n",
       "      <td>28</td>\n",
       "      <td>3</td>\n",
       "      <td>Negative</td>\n",
       "      <td>Yes</td>\n",
       "      <td>559</td>\n",
       "      <td>8.0</td>\n",
       "      <td>development</td>\n",
       "    </tr>\n",
       "  </tbody>\n",
       "</table>\n",
       "</div>"
      ],
      "text/plain": [
       "   patient_id  report_no  y_report is_ifi_episode  histopathology_id  \\\n",
       "0          13          1  Positive            Yes                658   \n",
       "1          14          1  Positive            Yes                189   \n",
       "2          28          1  Negative             No                529   \n",
       "3          28          2  Positive            Yes                325   \n",
       "4          28          3  Negative            Yes                559   \n",
       "\n",
       "   val_fold      dataset  \n",
       "0      10.0  development  \n",
       "1       7.0  development  \n",
       "2       8.0  development  \n",
       "3       8.0  development  \n",
       "4       8.0  development  "
      ]
     },
     "execution_count": 2,
     "metadata": {},
     "output_type": "execute_result"
    }
   ],
   "source": [
    "# Define path to CHIFIR dataset\n",
    "path = \"../../../Data/CHIFIR/\"\n",
    "\n",
    "# Load a csv file with report IDs and labels\n",
    "df = pd.read_csv(path + \"/chifir_metadata.csv\")\n",
    "print(df.shape)\n",
    "df.head()"
   ]
  },
  {
   "cell_type": "markdown",
   "id": "ba7f214d",
   "metadata": {},
   "source": [
    "### Load report texts"
   ]
  },
  {
   "cell_type": "code",
   "execution_count": 3,
   "id": "bb372689",
   "metadata": {},
   "outputs": [],
   "source": [
    "# Read report texts\n",
    "df['order_results'] = df.apply(read_reports, path=path+\"reports/\", axis=1)"
   ]
  },
  {
   "cell_type": "markdown",
   "id": "19ab8cd7",
   "metadata": {},
   "source": [
    "### Convert target variable to categorical"
   ]
  },
  {
   "cell_type": "code",
   "execution_count": 4,
   "id": "f6164acb",
   "metadata": {},
   "outputs": [],
   "source": [
    "df.y_report = labels2cat(df.y_report)"
   ]
  },
  {
   "cell_type": "markdown",
   "id": "140998df",
   "metadata": {},
   "source": [
    "### Summary statistics"
   ]
  },
  {
   "cell_type": "code",
   "execution_count": 5,
   "id": "33c2486e",
   "metadata": {},
   "outputs": [
    {
     "name": "stdout",
     "output_type": "stream",
     "text": [
      "Total number of reports: 283\n",
      "Total number of unique patients: 201\n",
      "Number of reports per patient varies from 1 to 6 with a median value of 1.\n",
      "The average document length is 1353 characters.\n"
     ]
    }
   ],
   "source": [
    "print(\"Total number of reports:\", df.shape[0])\n",
    "print(\"Total number of unique patients:\", df.patient_id.nunique())\n",
    "print(\"Number of reports per patient varies from %d to %d with a median value of %d.\" % \n",
    "      (df.groupby('patient_id').size().min(), \n",
    "       df.groupby('patient_id').size().max(), \n",
    "       df.groupby('patient_id').size().median())\n",
    "     )\n",
    "print(\"The average document length is %d characters.\" % df.order_results.apply(len).mean())"
   ]
  },
  {
   "cell_type": "code",
   "execution_count": 6,
   "id": "ddece77e",
   "metadata": {},
   "outputs": [
    {
     "name": "stdout",
     "output_type": "stream",
     "text": [
      "Number of patients: 201\n",
      "Number of reports: 283\n",
      "\n",
      "Proportion of reports of each class:\n",
      "y_report\n",
      "Negative    0.86\n",
      "Positive    0.14\n",
      "Name: proportion, dtype: float64\n"
     ]
    }
   ],
   "source": [
    "print_stats(df, 'y_report')"
   ]
  },
  {
   "cell_type": "markdown",
   "id": "fbe721a5",
   "metadata": {},
   "source": [
    "### Examine data splits"
   ]
  },
  {
   "cell_type": "code",
   "execution_count": 7,
   "id": "7264f7d3",
   "metadata": {},
   "outputs": [
    {
     "data": {
      "text/plain": [
       "dataset\n",
       "development    231\n",
       "test            52\n",
       "Name: count, dtype: int64"
      ]
     },
     "execution_count": 7,
     "metadata": {},
     "output_type": "execute_result"
    }
   ],
   "source": [
    "# How many reports in dev and test sets?\n",
    "df.dataset.value_counts(dropna=False)"
   ]
  },
  {
   "cell_type": "code",
   "execution_count": 8,
   "id": "85cab5ab",
   "metadata": {},
   "outputs": [
    {
     "data": {
      "text/plain": [
       "val_fold\n",
       "1.0     21\n",
       "2.0     19\n",
       "3.0     19\n",
       "4.0     30\n",
       "5.0     19\n",
       "6.0     26\n",
       "7.0     29\n",
       "8.0     29\n",
       "9.0     18\n",
       "10.0    21\n",
       "Name: count, dtype: int64"
      ]
     },
     "execution_count": 8,
     "metadata": {},
     "output_type": "execute_result"
    }
   ],
   "source": [
    "# How many reports in each CV fold?\n",
    "df.val_fold.value_counts().sort_index()"
   ]
  },
  {
   "cell_type": "code",
   "execution_count": 9,
   "id": "dede3128",
   "metadata": {},
   "outputs": [
    {
     "data": {
      "text/plain": [
       "val_fold  y_report\n",
       "1.0       Negative    0.95\n",
       "          Positive    0.05\n",
       "2.0       Negative    0.79\n",
       "          Positive    0.21\n",
       "3.0       Negative    0.95\n",
       "          Positive    0.05\n",
       "4.0       Negative    0.83\n",
       "          Positive    0.17\n",
       "5.0       Negative    0.89\n",
       "          Positive    0.11\n",
       "6.0       Negative    0.77\n",
       "          Positive    0.23\n",
       "7.0       Negative    0.97\n",
       "          Positive    0.03\n",
       "8.0       Negative    0.79\n",
       "          Positive    0.21\n",
       "9.0       Negative    0.83\n",
       "          Positive    0.17\n",
       "10.0      Negative    0.86\n",
       "          Positive    0.14\n",
       "Name: proportion, dtype: float64"
      ]
     },
     "execution_count": 9,
     "metadata": {},
     "output_type": "execute_result"
    }
   ],
   "source": [
    "# Proportion of positive reports in each CV fold?\n",
    "df.groupby('val_fold').y_report.value_counts(normalize=True).round(2)"
   ]
  },
  {
   "cell_type": "markdown",
   "id": "972ee3d5",
   "metadata": {},
   "source": [
    "### Parse files with gold standard annotations"
   ]
  },
  {
   "cell_type": "code",
   "execution_count": 10,
   "id": "a5764f66",
   "metadata": {},
   "outputs": [
    {
     "name": "stdout",
     "output_type": "stream",
     "text": [
      "Found 0 discontinous concepts that should be merged\n",
      "Extracted 1137 concepts and 606 relations.\n",
      "After handling discontinous concepts there are a total of 1155 concepts.\n",
      "Totalling 1497 concepts and composite concepts.\n"
     ]
    }
   ],
   "source": [
    "# Map character positions before and after text pre-processing\n",
    "df['pos_mapping'] = df.order_results.apply(clean_text, return_mapping=True)\n",
    "\n",
    "read_annotations(df, path=path+\"annotations/\")"
   ]
  },
  {
   "cell_type": "markdown",
   "id": "abc67b99",
   "metadata": {},
   "source": [
    "### Save datasets"
   ]
  },
  {
   "cell_type": "code",
   "execution_count": 11,
   "id": "b49e5f3f",
   "metadata": {},
   "outputs": [],
   "source": [
    "df[df.dataset=='development'].to_csv(\"../datasets/reports_dev.csv\", index=False)\n",
    "df[df.dataset=='test'].to_csv(\"../datasets/reports_test.csv\", index=False)"
   ]
  },
  {
   "cell_type": "code",
   "execution_count": null,
   "id": "9bb40431",
   "metadata": {},
   "outputs": [],
   "source": []
  }
 ],
 "metadata": {
  "kernelspec": {
   "display_name": "Python 3 (ipykernel)",
   "language": "python",
   "name": "python3"
  },
  "language_info": {
   "codemirror_mode": {
    "name": "ipython",
    "version": 3
   },
   "file_extension": ".py",
   "mimetype": "text/x-python",
   "name": "python",
   "nbconvert_exporter": "python",
   "pygments_lexer": "ipython3",
   "version": "3.11.7"
  }
 },
 "nbformat": 4,
 "nbformat_minor": 5
}
