{
 "cells": [
  {
   "cell_type": "code",
   "execution_count": 1,
   "id": "6bd93442",
   "metadata": {},
   "outputs": [],
   "source": [
    "import numpy as np\n",
    "import pandas as pd\n",
    "import re\n",
    "import utils"
   ]
  },
  {
   "cell_type": "markdown",
   "id": "73b417d8",
   "metadata": {},
   "source": [
    "___\n",
    "# Extract gold standard annotations\n",
    "### Load metadata"
   ]
  },
  {
   "cell_type": "code",
   "execution_count": 2,
   "id": "d049816c",
   "metadata": {},
   "outputs": [
    {
     "name": "stdout",
     "output_type": "stream",
     "text": [
      "(283, 4)\n"
     ]
    },
    {
     "data": {
      "text/html": [
       "<div>\n",
       "<style scoped>\n",
       "    .dataframe tbody tr th:only-of-type {\n",
       "        vertical-align: middle;\n",
       "    }\n",
       "\n",
       "    .dataframe tbody tr th {\n",
       "        vertical-align: top;\n",
       "    }\n",
       "\n",
       "    .dataframe thead th {\n",
       "        text-align: right;\n",
       "    }\n",
       "</style>\n",
       "<table border=\"1\" class=\"dataframe\">\n",
       "  <thead>\n",
       "    <tr style=\"text-align: right;\">\n",
       "      <th></th>\n",
       "      <th>report_id</th>\n",
       "      <th>patient_id</th>\n",
       "      <th>report_no</th>\n",
       "      <th>y_report</th>\n",
       "    </tr>\n",
       "  </thead>\n",
       "  <tbody>\n",
       "    <tr>\n",
       "      <th>0</th>\n",
       "      <td>754</td>\n",
       "      <td>1</td>\n",
       "      <td>1</td>\n",
       "      <td>Negative</td>\n",
       "    </tr>\n",
       "    <tr>\n",
       "      <th>1</th>\n",
       "      <td>214</td>\n",
       "      <td>2</td>\n",
       "      <td>1</td>\n",
       "      <td>Positive</td>\n",
       "    </tr>\n",
       "    <tr>\n",
       "      <th>2</th>\n",
       "      <td>125</td>\n",
       "      <td>3</td>\n",
       "      <td>1</td>\n",
       "      <td>Negative</td>\n",
       "    </tr>\n",
       "    <tr>\n",
       "      <th>3</th>\n",
       "      <td>859</td>\n",
       "      <td>4</td>\n",
       "      <td>1</td>\n",
       "      <td>Negative</td>\n",
       "    </tr>\n",
       "    <tr>\n",
       "      <th>4</th>\n",
       "      <td>381</td>\n",
       "      <td>5</td>\n",
       "      <td>1</td>\n",
       "      <td>Negative</td>\n",
       "    </tr>\n",
       "  </tbody>\n",
       "</table>\n",
       "</div>"
      ],
      "text/plain": [
       "   report_id  patient_id  report_no  y_report\n",
       "0        754           1          1  Negative\n",
       "1        214           2          1  Positive\n",
       "2        125           3          1  Negative\n",
       "3        859           4          1  Negative\n",
       "4        381           5          1  Negative"
      ]
     },
     "execution_count": 2,
     "metadata": {},
     "output_type": "execute_result"
    }
   ],
   "source": [
    "# Load a csv file with report IDs and labels\n",
    "df = pd.read_csv(\"../datasets/reports_metadata.csv\")\n",
    "print(df.shape)\n",
    "df.head()"
   ]
  },
  {
   "cell_type": "markdown",
   "id": "36a920bf",
   "metadata": {},
   "source": [
    "### Parse annotation files"
   ]
  },
  {
   "cell_type": "code",
   "execution_count": 3,
   "id": "09a4b5e7",
   "metadata": {},
   "outputs": [
    {
     "name": "stdout",
     "output_type": "stream",
     "text": [
      "Extracted 1137 concepts and 606 relations.\n"
     ]
    }
   ],
   "source": [
    "# Define the folder with annotation files\n",
    "path = \"../datasets/annotations/\"\n",
    "\n",
    "# Create dataframes to store annotations\n",
    "concepts = pd.DataFrame(columns=['report_id', 'patient_id', 'report_no', \n",
    "                                 'concept_id', 'concept', 'location', 'phrase'])\n",
    "relations = pd.DataFrame(columns=['report_id', 'patient_id', 'report_no', \n",
    "                                  'relation_id', 'relation', 'arg1', 'arg2'])\n",
    "\n",
    "for _, x in df.iterrows():\n",
    "    # Define filename\n",
    "    filename = utils.get_filename(x.patient_id, x.report_no, file_format='ann')\n",
    "    \n",
    "    # Read the annotation file\n",
    "    with open(path + filename, 'r') as f:\n",
    "        annotation = f.readlines()\n",
    "        \n",
    "    if annotation:    \n",
    "        # Loop over each line of the annotation file\n",
    "        for line in annotation:\n",
    "\n",
    "            # Concept\n",
    "            if re.match(\"T\", line):\n",
    "\n",
    "                # Create an entry containing concept ID, category, location and the raw text\n",
    "                substrings = line.strip().split('\\t')\n",
    "                concept_id = substrings[0]\n",
    "                concept = substrings[1].split(maxsplit=1)[0]\n",
    "                location = substrings[1].split(maxsplit=1)[1]\n",
    "                text = substrings[2]\n",
    "\n",
    "                tmp = pd.DataFrame({\n",
    "                    'report_id': x.report_id,\n",
    "                    'patient_id': x.patient_id, \n",
    "                    'report_no': x.report_no, \n",
    "                    'concept_id': concept_id, \n",
    "                    'concept': concept, \n",
    "                    'location': location, \n",
    "                    'phrase': text\n",
    "                }, index=[0])\n",
    "\n",
    "                # Add to the table of concepts\n",
    "                concepts = pd.concat([concepts, tmp], axis=0, ignore_index=True)\n",
    "\n",
    "            # Relation\n",
    "            elif re.match(\"R\", line):\n",
    "\n",
    "                # Create an entry containing relation ID, type and IDs of the arguments\n",
    "                substrings = line.strip().split()\n",
    "                relation_id = substrings[0]\n",
    "                relation = substrings[1]\n",
    "                arg1 = substrings[2].split(':')[1]\n",
    "                arg2 = substrings[3].split(':')[1]\n",
    "\n",
    "                tmp = pd.DataFrame({\n",
    "                    'report_id': x.report_id,\n",
    "                    'patient_id': x.patient_id, \n",
    "                    'report_no': x.report_no, \n",
    "                    'relation_id': relation_id, \n",
    "                    'relation': relation, \n",
    "                    'arg1': arg1, \n",
    "                    'arg2': arg2\n",
    "                }, index=[0])\n",
    "\n",
    "                # Add to the table of relations\n",
    "                relations = pd.concat([relations, tmp], axis=0, ignore_index=True)\n",
    "                \n",
    "# Convert patient ID and report number to int\n",
    "concepts[['patient_id', 'report_no']] = concepts[['patient_id', 'report_no']].astype(int)\n",
    "relations[['patient_id', 'report_no']] = relations[['patient_id', 'report_no']].astype(int)\n",
    "\n",
    "print(\"Extracted %d concepts and %d relations.\" % (concepts.shape[0], relations.shape[0]))"
   ]
  },
  {
   "cell_type": "markdown",
   "id": "3e81eb8a",
   "metadata": {},
   "source": [
    "### Save the extracted concepts and relations"
   ]
  },
  {
   "cell_type": "code",
   "execution_count": 4,
   "id": "72d40af7",
   "metadata": {},
   "outputs": [],
   "source": [
    "concepts.to_csv(\"../datasets/gold_concepts.csv\", index=False)\n",
    "relations.to_csv(\"../datasets/gold_relations.csv\", index=False)"
   ]
  },
  {
   "cell_type": "markdown",
   "id": "c8d3c1d7",
   "metadata": {},
   "source": [
    "### Create composite concepts"
   ]
  },
  {
   "cell_type": "code",
   "execution_count": 5,
   "id": "c0c56c73",
   "metadata": {},
   "outputs": [
    {
     "name": "stdout",
     "output_type": "stream",
     "text": [
      "Totalling 1482 concepts and composite concepts.\n"
     ]
    }
   ],
   "source": [
    "def add_composite_concepts(concepts, relation, composite_name):\n",
    "    \n",
    "    # Loop over the dataframe with extracted relations\n",
    "    for _, x in relations[relations.relation==relation].iterrows():\n",
    "        \n",
    "        # Define the next vacant concept ID\n",
    "        next_id = concepts[concepts.report_id==x.report_id].concept_id.apply(lambda x: int(x[1:])).max() + 1\n",
    "        \n",
    "        # Determine the object (Arg2) of a relation\n",
    "        y = concepts[(concepts.report_id==x.report_id) & (concepts.concept_id==x.arg2)].iloc[0]\n",
    "        \n",
    "        # Create an entry containing concept ID, composite category, location and the raw text\n",
    "        tmp = pd.DataFrame({\n",
    "            'report_id': x.report_id,\n",
    "            'patient_id': x.patient_id,\n",
    "            'report_no': x.report_no, \n",
    "            'concept_id': 'T' + str(next_id), \n",
    "            'concept': composite_name + y.concept,\n",
    "            'location': y.location,\n",
    "            'phrase': y.phrase\n",
    "        }, index=[0])\n",
    "        \n",
    "        # Add to the table of concepts\n",
    "        concepts = pd.concat([concepts, tmp], axis=0, ignore_index=True)\n",
    "        \n",
    "    return concepts\n",
    "\n",
    "# Add the argument of a positive relation to the table of concepts as an \"affirmed\" concept\n",
    "concepts = add_composite_concepts(concepts, 'positive-rel', 'affirmed')\n",
    "\n",
    "# Add the argument of a negative relation to the table of concepts as a \"negated\" concept\n",
    "concepts = add_composite_concepts(concepts, 'negative-rel', 'negated')\n",
    "\n",
    "print(\"Totalling %d concepts and composite concepts.\" % concepts.shape[0])"
   ]
  },
  {
   "cell_type": "markdown",
   "id": "ce8a3d64",
   "metadata": {},
   "source": [
    "### Save the extracted annotatons"
   ]
  },
  {
   "cell_type": "code",
   "execution_count": 6,
   "id": "319442b9",
   "metadata": {},
   "outputs": [],
   "source": [
    "concepts.to_csv(\"../datasets/gold_composite.csv\", index=False)"
   ]
  },
  {
   "cell_type": "markdown",
   "id": "2675a20c",
   "metadata": {},
   "source": [
    "___\n",
    "# Generate `.ann` files with composite concepts instead of relations"
   ]
  },
  {
   "cell_type": "code",
   "execution_count": 7,
   "id": "0143db50",
   "metadata": {},
   "outputs": [
    {
     "data": {
      "text/html": [
       "<div>\n",
       "<style scoped>\n",
       "    .dataframe tbody tr th:only-of-type {\n",
       "        vertical-align: middle;\n",
       "    }\n",
       "\n",
       "    .dataframe tbody tr th {\n",
       "        vertical-align: top;\n",
       "    }\n",
       "\n",
       "    .dataframe thead th {\n",
       "        text-align: right;\n",
       "    }\n",
       "</style>\n",
       "<table border=\"1\" class=\"dataframe\">\n",
       "  <thead>\n",
       "    <tr style=\"text-align: right;\">\n",
       "      <th></th>\n",
       "    </tr>\n",
       "  </thead>\n",
       "  <tbody>\n",
       "  </tbody>\n",
       "</table>\n",
       "</div>"
      ],
      "text/plain": [
       "Empty DataFrame\n",
       "Columns: []\n",
       "Index: []"
      ]
     },
     "execution_count": 7,
     "metadata": {},
     "output_type": "execute_result"
    }
   ],
   "source": [
    "def write_ann_file(x):\n",
    "    # Define filename for the new annotation file\n",
    "    filename = utils.get_filename(x.patient_id.iloc[0], x.report_no.iloc[0])\n",
    "\n",
    "    # Write annotations in the .ann file format\n",
    "    with open(output_path + filename, 'w') as f:\n",
    "        concepts[concepts.report_id==x.report_id.iloc[0]].apply(lambda y: \n",
    "                                                                f.write(y.concept_id +  '\\t' + \n",
    "                                                                        y.concept + ' ' +\n",
    "                                                                        y.location + '\\t' + \n",
    "                                                                        y.phrase + '\\n'),\n",
    "                                                                axis=1)\n",
    "        \n",
    "# Define the output folder for the new annotation files\n",
    "output_path = \"../datasets/annotations_composite/\"\n",
    "\n",
    "# Write annotation files\n",
    "df.groupby('report_id').apply(write_ann_file)"
   ]
  },
  {
   "cell_type": "code",
   "execution_count": null,
   "id": "ff6fe848",
   "metadata": {},
   "outputs": [],
   "source": []
  }
 ],
 "metadata": {
  "kernelspec": {
   "display_name": "Python 3 (ipykernel)",
   "language": "python",
   "name": "python3"
  },
  "language_info": {
   "codemirror_mode": {
    "name": "ipython",
    "version": 3
   },
   "file_extension": ".py",
   "mimetype": "text/x-python",
   "name": "python",
   "nbconvert_exporter": "python",
   "pygments_lexer": "ipython3",
   "version": "3.8.10"
  }
 },
 "nbformat": 4,
 "nbformat_minor": 5
}
