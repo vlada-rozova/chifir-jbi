{
 "cells": [
  {
   "cell_type": "code",
   "execution_count": 1,
   "id": "d5bedd4d",
   "metadata": {
    "scrolled": true
   },
   "outputs": [],
   "source": [
    "import numpy as np\n",
    "import pandas as pd\n",
    "import utils\n",
    "\n",
    "import matplotlib.pyplot as plt\n",
    "import seaborn as sns\n",
    "\n",
    "%matplotlib inline\n",
    "\n",
    "sns.set_style('ticks')\n",
    "plt.rcParams['figure.figsize'] = (6, 4)\n",
    "plt.rcParams['axes.titlesize'] = 22\n",
    "plt.rcParams['axes.labelsize'] = 20\n",
    "plt.rcParams['xtick.labelsize'] = 16\n",
    "plt.rcParams['ytick.labelsize'] = 16"
   ]
  },
  {
   "cell_type": "markdown",
   "id": "572a93b2",
   "metadata": {},
   "source": [
    "___\n",
    "# EDA on the gold standard annotations\n",
    "### Load metadata"
   ]
  },
  {
   "cell_type": "code",
   "execution_count": 2,
   "id": "2fa3a2a9",
   "metadata": {},
   "outputs": [
    {
     "name": "stdout",
     "output_type": "stream",
     "text": [
      "(283, 4)\n"
     ]
    },
    {
     "data": {
      "text/html": [
       "<div>\n",
       "<style scoped>\n",
       "    .dataframe tbody tr th:only-of-type {\n",
       "        vertical-align: middle;\n",
       "    }\n",
       "\n",
       "    .dataframe tbody tr th {\n",
       "        vertical-align: top;\n",
       "    }\n",
       "\n",
       "    .dataframe thead th {\n",
       "        text-align: right;\n",
       "    }\n",
       "</style>\n",
       "<table border=\"1\" class=\"dataframe\">\n",
       "  <thead>\n",
       "    <tr style=\"text-align: right;\">\n",
       "      <th></th>\n",
       "      <th>report_id</th>\n",
       "      <th>patient_id</th>\n",
       "      <th>report_no</th>\n",
       "      <th>y_report</th>\n",
       "    </tr>\n",
       "  </thead>\n",
       "  <tbody>\n",
       "    <tr>\n",
       "      <th>0</th>\n",
       "      <td>754</td>\n",
       "      <td>1</td>\n",
       "      <td>1</td>\n",
       "      <td>Negative</td>\n",
       "    </tr>\n",
       "    <tr>\n",
       "      <th>1</th>\n",
       "      <td>214</td>\n",
       "      <td>2</td>\n",
       "      <td>1</td>\n",
       "      <td>Positive</td>\n",
       "    </tr>\n",
       "    <tr>\n",
       "      <th>2</th>\n",
       "      <td>125</td>\n",
       "      <td>3</td>\n",
       "      <td>1</td>\n",
       "      <td>Negative</td>\n",
       "    </tr>\n",
       "    <tr>\n",
       "      <th>3</th>\n",
       "      <td>859</td>\n",
       "      <td>4</td>\n",
       "      <td>1</td>\n",
       "      <td>Negative</td>\n",
       "    </tr>\n",
       "    <tr>\n",
       "      <th>4</th>\n",
       "      <td>381</td>\n",
       "      <td>5</td>\n",
       "      <td>1</td>\n",
       "      <td>Negative</td>\n",
       "    </tr>\n",
       "  </tbody>\n",
       "</table>\n",
       "</div>"
      ],
      "text/plain": [
       "   report_id  patient_id  report_no  y_report\n",
       "0        754           1          1  Negative\n",
       "1        214           2          1  Positive\n",
       "2        125           3          1  Negative\n",
       "3        859           4          1  Negative\n",
       "4        381           5          1  Negative"
      ]
     },
     "execution_count": 2,
     "metadata": {},
     "output_type": "execute_result"
    }
   ],
   "source": [
    "# Load the dataset (full / training / test)\n",
    "df = pd.read_csv(\"../datasets/reports_metadata.csv\")\n",
    "print(df.shape)\n",
    "df.head()"
   ]
  },
  {
   "cell_type": "markdown",
   "id": "e0bd4b44",
   "metadata": {},
   "source": [
    "### Add counts for gold standard concepts and composite concepts"
   ]
  },
  {
   "cell_type": "code",
   "execution_count": 3,
   "id": "d7e93db5",
   "metadata": {},
   "outputs": [
    {
     "data": {
      "text/plain": [
       "(283, 27)"
      ]
     },
     "execution_count": 3,
     "metadata": {},
     "output_type": "execute_result"
    }
   ],
   "source": [
    "df = utils.ann2counts(df)\n",
    "df.shape"
   ]
  },
  {
   "cell_type": "markdown",
   "id": "b3791417",
   "metadata": {},
   "source": [
    "### Summary statistics"
   ]
  },
  {
   "cell_type": "code",
   "execution_count": 4,
   "id": "d2a57dbc",
   "metadata": {},
   "outputs": [
    {
     "data": {
      "text/plain": [
       "['ClinicalQuery',\n",
       " 'FungalDescriptor',\n",
       " 'Fungus',\n",
       " 'Invasiveness',\n",
       " 'Stain',\n",
       " 'SampleType',\n",
       " 'positive',\n",
       " 'equivocal',\n",
       " 'negative',\n",
       " 'positive-rel',\n",
       " 'equivocal-rel',\n",
       " 'negative-rel',\n",
       " 'fungal-description-rel',\n",
       " 'invasiveness-rel',\n",
       " 'fungus-stain-rel',\n",
       " 'affirmedFungalDescriptor',\n",
       " 'affirmedFungus',\n",
       " 'affirmedInvasiveness',\n",
       " 'affirmedStain',\n",
       " 'negatedFungalDescriptor',\n",
       " 'negatedFungus',\n",
       " 'negatedInvasiveness',\n",
       " 'negatedStain']"
      ]
     },
     "execution_count": 4,
     "metadata": {},
     "output_type": "execute_result"
    }
   ],
   "source": [
    "# Define fetaure names\n",
    "feature_names = utils.get_feature_names(\"concepts\") + utils.get_feature_names(\"relations\") + utils.get_feature_names(\"composite\")\n",
    "feature_names"
   ]
  },
  {
   "cell_type": "code",
   "execution_count": 5,
   "id": "4a47add6",
   "metadata": {},
   "outputs": [
    {
     "name": "stdout",
     "output_type": "stream",
     "text": [
      "24 reports with no annotations of any kind.\n",
      "24 reports with no concepts.\n",
      "149 reports with no relations.\n"
     ]
    }
   ],
   "source": [
    "# Number of reports with no annotations\n",
    "print(\"%d reports with no annotations of any kind.\" % (df[feature_names].sum(axis=1)==0).sum())\n",
    "print(\"%d reports with no concepts.\" % (df[utils.get_feature_names(\"concepts\")].sum(axis=1)==0).sum())\n",
    "print(\"%d reports with no relations.\" % (df[utils.get_feature_names(\"relations\")].sum(axis=1)==0).sum())"
   ]
  },
  {
   "cell_type": "code",
   "execution_count": 6,
   "id": "c2a8695d",
   "metadata": {},
   "outputs": [
    {
     "data": {
      "text/plain": [
       "3.0"
      ]
     },
     "execution_count": 6,
     "metadata": {},
     "output_type": "execute_result"
    }
   ],
   "source": [
    "# Median number of concepts in the annotated reports\n",
    "df.loc[df[utils.get_feature_names(\"concepts\")].sum(axis=1) > 0, utils.get_feature_names(\"concepts\")].sum(axis=1).median()"
   ]
  },
  {
   "cell_type": "code",
   "execution_count": 7,
   "id": "b1627a8c",
   "metadata": {},
   "outputs": [
    {
     "data": {
      "text/plain": [
       "ClinicalQuery                65\n",
       "FungalDescriptor            282\n",
       "Fungus                      106\n",
       "Invasiveness                 37\n",
       "Stain                       172\n",
       "SampleType                  198\n",
       "positive                    118\n",
       "equivocal                     7\n",
       "negative                    152\n",
       "positive-rel                144\n",
       "equivocal-rel                 9\n",
       "negative-rel                201\n",
       "fungal-description-rel       41\n",
       "invasiveness-rel             38\n",
       "fungus-stain-rel            173\n",
       "affirmedFungalDescriptor    101\n",
       "affirmedFungus               40\n",
       "affirmedInvasiveness          1\n",
       "affirmedStain                 2\n",
       "negatedFungalDescriptor     138\n",
       "negatedFungus                53\n",
       "negatedInvasiveness           6\n",
       "negatedStain                  4\n",
       "dtype: int64"
      ]
     },
     "execution_count": 7,
     "metadata": {},
     "output_type": "execute_result"
    }
   ],
   "source": [
    "# Total occurences for each category\n",
    "df[feature_names].sum()"
   ]
  },
  {
   "cell_type": "code",
   "execution_count": 8,
   "id": "4f6289e2",
   "metadata": {},
   "outputs": [
    {
     "name": "stdout",
     "output_type": "stream",
     "text": [
      "Number of unique tokens in each category: [36, 67, 15, 25, 13, 55, 37, 5, 11]\n"
     ]
    }
   ],
   "source": [
    "# Number of unique phrases\n",
    "vocab = utils.create_vocab(df.report_id, expand=False)"
   ]
  },
  {
   "cell_type": "code",
   "execution_count": 9,
   "id": "d151c645",
   "metadata": {},
   "outputs": [
    {
     "name": "stdout",
     "output_type": "stream",
     "text": [
      "ClinicalQuery 0.55\n",
      "FungalDescriptor 0.24\n",
      "Fungus 0.14\n",
      "Invasiveness 0.68\n",
      "Stain 0.08\n",
      "SampleType 0.28\n",
      "positive 0.31\n",
      "equivocal 0.71\n",
      "negative 0.07\n"
     ]
    },
    {
     "data": {
      "text/plain": [
       "[None, None, None, None, None, None, None, None, None]"
      ]
     },
     "execution_count": 9,
     "metadata": {},
     "output_type": "execute_result"
    }
   ],
   "source": [
    "# Lexical diversity\n",
    "[print(ft, (len(vocab[ft]) / df[ft].sum()).round(2)) for ft in vocab]"
   ]
  },
  {
   "cell_type": "code",
   "execution_count": 10,
   "id": "ecf75337",
   "metadata": {},
   "outputs": [],
   "source": [
    "def print_percentage_reports(df, units=\"perc\"):\n",
    "    if units==\"perc\":\n",
    "        # Percentage of reports with at least one occurence\n",
    "        print(\"Percentage of reports:\")\n",
    "        print((df[feature_names].astype(bool).sum(axis=0) / df.shape[0] * 100).round(1))\n",
    "        \n",
    "    if units==\"num\":\n",
    "        # Number of reports with at least one occurence\n",
    "        print(\"Number of reports:\")\n",
    "        print(df[feature_names].astype(bool).sum(axis=0))"
   ]
  },
  {
   "cell_type": "code",
   "execution_count": 11,
   "id": "6a9401dc",
   "metadata": {},
   "outputs": [
    {
     "name": "stdout",
     "output_type": "stream",
     "text": [
      "Number of reports:\n",
      "ClinicalQuery                53\n",
      "FungalDescriptor            128\n",
      "Fungus                       60\n",
      "Invasiveness                 12\n",
      "Stain                       100\n",
      "SampleType                  179\n",
      "positive                     42\n",
      "equivocal                     5\n",
      "negative                    104\n",
      "positive-rel                 42\n",
      "equivocal-rel                 5\n",
      "negative-rel                104\n",
      "fungal-description-rel       22\n",
      "invasiveness-rel             12\n",
      "fungus-stain-rel             93\n",
      "affirmedFungalDescriptor     38\n",
      "affirmedFungus               24\n",
      "affirmedInvasiveness          1\n",
      "affirmedStain                 2\n",
      "negatedFungalDescriptor      96\n",
      "negatedFungus                35\n",
      "negatedInvasiveness           4\n",
      "negatedStain                  4\n",
      "dtype: int64\n"
     ]
    }
   ],
   "source": [
    "# Number of reports with at least one occurrence\n",
    "print_percentage_reports(df, \"num\")"
   ]
  },
  {
   "cell_type": "code",
   "execution_count": 12,
   "id": "0dbf5aa9",
   "metadata": {},
   "outputs": [
    {
     "data": {
      "text/plain": [
       "ClinicalQuery                43.0\n",
       "FungalDescriptor             54.0\n",
       "Fungus                       58.0\n",
       "Invasiveness                100.0\n",
       "Stain                        28.0\n",
       "SampleType                   14.0\n",
       "positive                     97.0\n",
       "equivocal                   100.0\n",
       "negative                     14.0\n",
       "positive-rel                 97.0\n",
       "equivocal-rel               100.0\n",
       "negative-rel                 12.0\n",
       "fungal-description-rel      100.0\n",
       "invasiveness-rel            100.0\n",
       "fungus-stain-rel             26.0\n",
       "affirmedFungalDescriptor     96.0\n",
       "affirmedFungus              100.0\n",
       "affirmedInvasiveness        100.0\n",
       "affirmedStain               100.0\n",
       "negatedFungalDescriptor       8.0\n",
       "negatedFungus                15.0\n",
       "negatedInvasiveness         100.0\n",
       "negatedStain                  0.0\n",
       "dtype: float64"
      ]
     },
     "execution_count": 12,
     "metadata": {},
     "output_type": "execute_result"
    }
   ],
   "source": [
    "# Percentage of occurences in Positive reports\n",
    "(df.loc[df.y_report==\"Positive\", feature_names].sum(axis=0) / df[feature_names].sum(axis=0) * 100).round(0)"
   ]
  },
  {
   "cell_type": "code",
   "execution_count": 13,
   "id": "8ab35cf9",
   "metadata": {},
   "outputs": [
    {
     "data": {
      "text/plain": [
       "(2088, 1137, 606)"
      ]
     },
     "execution_count": 13,
     "metadata": {},
     "output_type": "execute_result"
    }
   ],
   "source": [
    "# Total number of occurences\n",
    "df[feature_names].sum().sum(), df[utils.get_feature_names('concepts')].sum().sum(), df[utils.get_feature_names('relations')].sum().sum()"
   ]
  },
  {
   "cell_type": "code",
   "execution_count": 14,
   "id": "ef9aa297",
   "metadata": {},
   "outputs": [
    {
     "data": {
      "text/plain": [
       "ClinicalQuery               0.23\n",
       "FungalDescriptor            1.00\n",
       "Fungus                      0.37\n",
       "Invasiveness                0.13\n",
       "Stain                       0.61\n",
       "SampleType                  0.70\n",
       "positive                    0.42\n",
       "equivocal                   0.02\n",
       "negative                    0.54\n",
       "positive-rel                0.51\n",
       "equivocal-rel               0.03\n",
       "negative-rel                0.71\n",
       "fungal-description-rel      0.14\n",
       "invasiveness-rel            0.13\n",
       "fungus-stain-rel            0.61\n",
       "affirmedFungalDescriptor    0.36\n",
       "affirmedFungus              0.14\n",
       "affirmedInvasiveness        0.00\n",
       "affirmedStain               0.01\n",
       "negatedFungalDescriptor     0.49\n",
       "negatedFungus               0.19\n",
       "negatedInvasiveness         0.02\n",
       "negatedStain                0.01\n",
       "dtype: float64"
      ]
     },
     "execution_count": 14,
     "metadata": {},
     "output_type": "execute_result"
    }
   ],
   "source": [
    "# Average number of occurences per report\n",
    "df[feature_names].mean(axis=0).round(2)"
   ]
  },
  {
   "cell_type": "code",
   "execution_count": 15,
   "id": "7cc35aa5",
   "metadata": {},
   "outputs": [
    {
     "data": {
      "text/plain": [
       "ClinicalQuery               0.70\n",
       "FungalDescriptor            3.78\n",
       "Fungus                      1.52\n",
       "Invasiveness                0.92\n",
       "Stain                       1.20\n",
       "SampleType                  0.68\n",
       "positive                    2.85\n",
       "equivocal                   0.18\n",
       "negative                    0.52\n",
       "positive-rel                3.50\n",
       "equivocal-rel               0.22\n",
       "negative-rel                0.62\n",
       "fungal-description-rel      1.02\n",
       "invasiveness-rel            0.95\n",
       "fungus-stain-rel            1.12\n",
       "affirmedFungalDescriptor    2.42\n",
       "affirmedFungus              1.00\n",
       "affirmedInvasiveness        0.02\n",
       "affirmedStain               0.05\n",
       "negatedFungalDescriptor     0.28\n",
       "negatedFungus               0.20\n",
       "negatedInvasiveness         0.15\n",
       "negatedStain                0.00\n",
       "dtype: float64"
      ]
     },
     "execution_count": 15,
     "metadata": {},
     "output_type": "execute_result"
    }
   ],
   "source": [
    "# Average number of occurences in positive reports\n",
    "df.loc[df.y_report==\"Positive\", feature_names].mean(axis=0).round(2)"
   ]
  },
  {
   "cell_type": "code",
   "execution_count": 16,
   "id": "c0b051f7",
   "metadata": {},
   "outputs": [
    {
     "data": {
      "text/plain": [
       "ClinicalQuery               0.15\n",
       "FungalDescriptor            0.54\n",
       "Fungus                      0.19\n",
       "Invasiveness                0.00\n",
       "Stain                       0.51\n",
       "SampleType                  0.70\n",
       "positive                    0.02\n",
       "equivocal                   0.00\n",
       "negative                    0.54\n",
       "positive-rel                0.02\n",
       "equivocal-rel               0.00\n",
       "negative-rel                0.72\n",
       "fungal-description-rel      0.00\n",
       "invasiveness-rel            0.00\n",
       "fungus-stain-rel            0.53\n",
       "affirmedFungalDescriptor    0.02\n",
       "affirmedFungus              0.00\n",
       "affirmedInvasiveness        0.00\n",
       "affirmedStain               0.00\n",
       "negatedFungalDescriptor     0.52\n",
       "negatedFungus               0.19\n",
       "negatedInvasiveness         0.00\n",
       "negatedStain                0.02\n",
       "dtype: float64"
      ]
     },
     "execution_count": 16,
     "metadata": {},
     "output_type": "execute_result"
    }
   ],
   "source": [
    "# Average number of occurences in negative reports\n",
    "df.loc[df.y_report==\"Negative\", feature_names].mean(axis=0).round(2)"
   ]
  },
  {
   "cell_type": "code",
   "execution_count": 17,
   "id": "8d943605",
   "metadata": {},
   "outputs": [
    {
     "data": {
      "image/png": "[encoded data removed]",
      "text/plain": [
       "<Figure size 600x400 with 1 Axes>"
      ]
     },
     "metadata": {},
     "output_type": "display_data"
    }
   ],
   "source": [
    "sns.histplot(x=df[feature_names].sum(axis=1), bins=25);\n",
    "plt.xlabel(\"Total number of phrases per report\");"
   ]
  },
  {
   "cell_type": "code",
   "execution_count": 18,
   "id": "e472ca66",
   "metadata": {},
   "outputs": [
    {
     "data": {
      "image/png": "[encoded data removed]",
      "text/plain": [
       "<Figure size 600x400 with 1 Axes>"
      ]
     },
     "metadata": {},
     "output_type": "display_data"
    }
   ],
   "source": [
    "sns.histplot(x=df.FungalDescriptor);\n",
    "plt.xlabel(\"Total number of phrases per report\");"
   ]
  },
  {
   "cell_type": "code",
   "execution_count": 19,
   "id": "ccf823a4",
   "metadata": {},
   "outputs": [
    {
     "data": {
      "text/plain": [
       "2.0"
      ]
     },
     "execution_count": 19,
     "metadata": {},
     "output_type": "execute_result"
    }
   ],
   "source": [
    "# Median number of annotations\n",
    "df[feature_names].sum(axis=1).median()"
   ]
  },
  {
   "cell_type": "code",
   "execution_count": 20,
   "id": "48ca1b5d",
   "metadata": {},
   "outputs": [
    {
     "data": {
      "text/plain": [
       "5.0"
      ]
     },
     "execution_count": 20,
     "metadata": {},
     "output_type": "execute_result"
    }
   ],
   "source": [
    "# Median number of annotations among reports with at least one concept\n",
    "df.loc[df[feature_names].sum(axis=1) > 0, feature_names].sum(axis=1).median()"
   ]
  },
  {
   "cell_type": "code",
   "execution_count": 21,
   "id": "8fcb334c",
   "metadata": {},
   "outputs": [
    {
     "name": "stdout",
     "output_type": "stream",
     "text": [
      "259 reports have at least one annotated concept.\n",
      "134 reports have at least one annotated relation.\n"
     ]
    }
   ],
   "source": [
    "# Number of reports with at least one occurence concept and relation\n",
    "print(\"%d reports have at least one annotated concept.\" % df[utils.get_feature_names(\"concepts\")].any(axis=1).sum())\n",
    "print(\"%d reports have at least one annotated relation.\" % df[utils.get_feature_names(\"relations\")].any(axis=1).sum())"
   ]
  },
  {
   "cell_type": "code",
   "execution_count": null,
   "id": "80bffba8",
   "metadata": {},
   "outputs": [],
   "source": []
  }
 ],
 "metadata": {
  "kernelspec": {
   "display_name": "Python 3 (ipykernel)",
   "language": "python",
   "name": "python3"
  },
  "language_info": {
   "codemirror_mode": {
    "name": "ipython",
    "version": 3
   },
   "file_extension": ".py",
   "mimetype": "text/x-python",
   "name": "python",
   "nbconvert_exporter": "python",
   "pygments_lexer": "ipython3",
   "version": "3.8.10"
  }
 },
 "nbformat": 4,
 "nbformat_minor": 5
}
