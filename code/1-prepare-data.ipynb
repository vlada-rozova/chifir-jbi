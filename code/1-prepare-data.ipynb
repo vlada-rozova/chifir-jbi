{
 "cells": [
  {
   "cell_type": "code",
   "execution_count": 1,
   "id": "8745c00d",
   "metadata": {},
   "outputs": [],
   "source": [
    "import numpy as np\n",
    "import pandas as pd\n",
    "import utils\n",
    "from math import ceil\n",
    "from sklearn.model_selection import GroupKFold"
   ]
  },
  {
   "cell_type": "markdown",
   "id": "48667ec5",
   "metadata": {},
   "source": [
    "___\n",
    "# Load cytology and histopathology reports\n",
    "### Load metadata"
   ]
  },
  {
   "cell_type": "code",
   "execution_count": 2,
   "id": "266d14c6",
   "metadata": {},
   "outputs": [
    {
     "name": "stdout",
     "output_type": "stream",
     "text": [
      "(283, 4)\n"
     ]
    },
    {
     "data": {
      "text/html": [
       "<div>\n",
       "<style scoped>\n",
       "    .dataframe tbody tr th:only-of-type {\n",
       "        vertical-align: middle;\n",
       "    }\n",
       "\n",
       "    .dataframe tbody tr th {\n",
       "        vertical-align: top;\n",
       "    }\n",
       "\n",
       "    .dataframe thead th {\n",
       "        text-align: right;\n",
       "    }\n",
       "</style>\n",
       "<table border=\"1\" class=\"dataframe\">\n",
       "  <thead>\n",
       "    <tr style=\"text-align: right;\">\n",
       "      <th></th>\n",
       "      <th>report_id</th>\n",
       "      <th>patient_id</th>\n",
       "      <th>report_no</th>\n",
       "      <th>y_report</th>\n",
       "    </tr>\n",
       "  </thead>\n",
       "  <tbody>\n",
       "    <tr>\n",
       "      <th>0</th>\n",
       "      <td>754</td>\n",
       "      <td>1</td>\n",
       "      <td>1</td>\n",
       "      <td>Negative</td>\n",
       "    </tr>\n",
       "    <tr>\n",
       "      <th>1</th>\n",
       "      <td>214</td>\n",
       "      <td>2</td>\n",
       "      <td>1</td>\n",
       "      <td>Positive</td>\n",
       "    </tr>\n",
       "    <tr>\n",
       "      <th>2</th>\n",
       "      <td>125</td>\n",
       "      <td>3</td>\n",
       "      <td>1</td>\n",
       "      <td>Negative</td>\n",
       "    </tr>\n",
       "    <tr>\n",
       "      <th>3</th>\n",
       "      <td>859</td>\n",
       "      <td>4</td>\n",
       "      <td>1</td>\n",
       "      <td>Negative</td>\n",
       "    </tr>\n",
       "    <tr>\n",
       "      <th>4</th>\n",
       "      <td>381</td>\n",
       "      <td>5</td>\n",
       "      <td>1</td>\n",
       "      <td>Negative</td>\n",
       "    </tr>\n",
       "  </tbody>\n",
       "</table>\n",
       "</div>"
      ],
      "text/plain": [
       "   report_id  patient_id  report_no  y_report\n",
       "0        754           1          1  Negative\n",
       "1        214           2          1  Positive\n",
       "2        125           3          1  Negative\n",
       "3        859           4          1  Negative\n",
       "4        381           5          1  Negative"
      ]
     },
     "execution_count": 2,
     "metadata": {},
     "output_type": "execute_result"
    }
   ],
   "source": [
    "# Load a csv file with report IDs and labels\n",
    "df = pd.read_csv(\"../datasets/reports_metadata.csv\")\n",
    "print(df.shape)\n",
    "df.head()"
   ]
  },
  {
   "cell_type": "markdown",
   "id": "ba7f214d",
   "metadata": {},
   "source": [
    "### Read report texts"
   ]
  },
  {
   "cell_type": "code",
   "execution_count": 3,
   "id": "bb372689",
   "metadata": {},
   "outputs": [],
   "source": [
    "# Define the folder with report texts\n",
    "path = \"../datasets/reports/\"\n",
    "\n",
    "# Read report texts\n",
    "df['report_text'] = df.apply(utils.read_report, path=path, axis=1)"
   ]
  },
  {
   "cell_type": "markdown",
   "id": "140998df",
   "metadata": {},
   "source": [
    "### Summary statistics"
   ]
  },
  {
   "cell_type": "code",
   "execution_count": 4,
   "id": "33c2486e",
   "metadata": {},
   "outputs": [
    {
     "name": "stdout",
     "output_type": "stream",
     "text": [
      "Total number of reports: 283\n",
      "Total number of unique patients: 201\n",
      "Number of reports per patient varies from 1 to 6 with a median value of 1.\n",
      "The average document length is 1353 characters.\n"
     ]
    }
   ],
   "source": [
    "print(\"Total number of reports:\", df.shape[0])\n",
    "print(\"Total number of unique patients:\", df.patient_id.nunique())\n",
    "print(\"Number of reports per patient varies from %d to %d with a median value of %d.\" % \n",
    "      (df.groupby('patient_id').size().min(), \n",
    "       df.groupby('patient_id').size().max(), \n",
    "       df.groupby('patient_id').size().median())\n",
    "     )\n",
    "print(\"The average document length is %d characters.\" % df.report_text.apply(len).mean())"
   ]
  },
  {
   "cell_type": "code",
   "execution_count": 5,
   "id": "ddece77e",
   "metadata": {},
   "outputs": [
    {
     "name": "stdout",
     "output_type": "stream",
     "text": [
      "Number of patients: 201\n",
      "Number of reports: 283\n",
      "\n",
      "Report-level annotation:\n",
      "Negative    243\n",
      "Positive     40\n",
      "Name: y_report, dtype: int64\n",
      "\n",
      "Proportion of positive reports: 14.1%\n"
     ]
    }
   ],
   "source": [
    "utils.print_stats(df)"
   ]
  },
  {
   "cell_type": "markdown",
   "id": "240a6334",
   "metadata": {},
   "source": [
    "___\n",
    "# Split data into development and test"
   ]
  },
  {
   "cell_type": "code",
   "execution_count": 6,
   "id": "b900b0dc",
   "metadata": {},
   "outputs": [],
   "source": [
    "# Convert report labels to int\n",
    "df['y'] = np.where(df.y_report==\"Positive\", 1, 0)"
   ]
  },
  {
   "cell_type": "markdown",
   "id": "dffd5e59",
   "metadata": {},
   "source": [
    "### Determine the target number of positive and negative reports as 20% of the dataset"
   ]
  },
  {
   "cell_type": "code",
   "execution_count": 7,
   "id": "e154e346",
   "metadata": {},
   "outputs": [
    {
     "name": "stdout",
     "output_type": "stream",
     "text": [
      "The target is to have 57 reports in the test set: 49 negative and 8 positive.\n"
     ]
    }
   ],
   "source": [
    "# Target test set size, number of positive and negative reports\n",
    "n_neg_test, n_pos_test = (df.y.value_counts() * 0.2).round().astype(int).values\n",
    "n_test = n_neg_test + n_pos_test\n",
    "print(\"The target is to have %d reports in the test set: %d negative and %d positive.\" % \n",
    "      (n_test, n_neg_test, n_pos_test))"
   ]
  },
  {
   "cell_type": "markdown",
   "id": "9a38413c",
   "metadata": {},
   "source": [
    "### Allocate positive reports"
   ]
  },
  {
   "cell_type": "code",
   "execution_count": 8,
   "id": "4c23c41d",
   "metadata": {},
   "outputs": [
    {
     "name": "stdout",
     "output_type": "stream",
     "text": [
      "There are 28 patients that have at least one positive report, out of those 22 have exactly one.\n"
     ]
    },
    {
     "data": {
      "text/plain": [
       "Positive    8\n",
       "Negative    5\n",
       "Name: y_report, dtype: int64"
      ]
     },
     "execution_count": 8,
     "metadata": {},
     "output_type": "execute_result"
    }
   ],
   "source": [
    "# IDs of patients that have at least one positive report\n",
    "pos_ids = df[df.y==1].patient_id.unique().tolist()\n",
    "\n",
    "# IDs of patients that have only one positive report\n",
    "one_pos_ids = [id_ for id_ in pos_ids if df[df.patient_id==id_].y.sum() == 1]\n",
    "\n",
    "print(\"There are %d patients that have at least one positive report, out of those %d have exactly one.\" % \n",
    "      (len(pos_ids), len(one_pos_ids)))\n",
    "\n",
    "# Randomly select n_pos_test IDs for the test set\n",
    "test_ids = df[df.patient_id.isin(one_pos_ids) & df.y].sample(n_pos_test, random_state=42).patient_id.tolist()\n",
    "\n",
    "# Add ALL reports from these patients to the test set\n",
    "test_data = df[df.patient_id.isin(test_ids)]\n",
    "test_data.y_report.value_counts()"
   ]
  },
  {
   "cell_type": "code",
   "execution_count": 9,
   "id": "942563b5",
   "metadata": {},
   "outputs": [
    {
     "data": {
      "text/plain": [
       "Positive    32\n",
       "Name: y_report, dtype: int64"
      ]
     },
     "execution_count": 9,
     "metadata": {},
     "output_type": "execute_result"
    }
   ],
   "source": [
    "# Remaining IDs will be allocated to the development set\n",
    "dev_ids = [id_ for id_ in pos_ids if id_ not in test_ids]\n",
    "\n",
    "# Add reports from the remaining patients to the development set\n",
    "dev_data = df[df.patient_id.isin(dev_ids) & df.y]\n",
    "dev_data.y_report.value_counts()"
   ]
  },
  {
   "cell_type": "code",
   "execution_count": 10,
   "id": "75d444ed",
   "metadata": {},
   "outputs": [
    {
     "name": "stdout",
     "output_type": "stream",
     "text": [
      "After allocating 32 reports to the development set and 13 reports to the test set, there are 238 reports left.\n"
     ]
    }
   ],
   "source": [
    "# Remove from the original dataset reports that have already been allocated \n",
    "df.drop(dev_data.index, inplace=True)\n",
    "df.drop(test_data.index, inplace=True)\n",
    "print( \"After allocating %d reports to the development set and %d reports to the test set, there are %d reports left.\" % \n",
    "      (dev_data.shape[0], test_data.shape[0], df.shape[0]))\n",
    "\n",
    "# Verify that all the remaining reports are negative\n",
    "assert (df.y_report == \"Negative\").all()"
   ]
  },
  {
   "cell_type": "markdown",
   "id": "12e0a287",
   "metadata": {},
   "source": [
    "### Allocate negative reports"
   ]
  },
  {
   "cell_type": "code",
   "execution_count": 11,
   "id": "2835a140",
   "metadata": {},
   "outputs": [
    {
     "name": "stdout",
     "output_type": "stream",
     "text": [
      "There are currently 5 negative reports in the test set.\n",
      "Need to add 44 more negative reports to meet the target.\n",
      "This will be best achieved by splitting off 1/6 of the remaning reports.\n"
     ]
    }
   ],
   "source": [
    "# How many negative reports should be added to the test set to meet the target?\n",
    "n_neg_add = n_neg_test - (test_data.y==0).sum()\n",
    "\n",
    "# The number of splits for GroupKFold generator\n",
    "n_splits = ceil(df.shape[0] / n_neg_add)\n",
    "\n",
    "print(\"There are currently %d negative reports in the test set.\" % (test_data.y==0).sum())\n",
    "print(\"Need to add %d more negative reports to meet the target.\" % n_neg_add)\n",
    "print(\"This will be best achieved by splitting off 1/%d of the remaning reports.\" % n_splits)"
   ]
  },
  {
   "cell_type": "code",
   "execution_count": 12,
   "id": "c8d4ed01",
   "metadata": {},
   "outputs": [
    {
     "name": "stdout",
     "output_type": "stream",
     "text": [
      "Adding 198 and 40 reports to the development and test sets, respectively.\n"
     ]
    }
   ],
   "source": [
    "# Instantiate a CV generator\n",
    "cv = GroupKFold(n_splits=n_splits)\n",
    "\n",
    "# Group reports by patient ID\n",
    "cv_generator = cv.split(df.report_text, df.y, df.patient_id)\n",
    "\n",
    "# Extract indices for the development and test set\n",
    "dev_idx, test_idx = next(cv_generator)\n",
    "print(\"Adding %d and %d reports to the development and test sets, respectively.\" % \n",
    "      (len(dev_idx), len(test_idx)))"
   ]
  },
  {
   "cell_type": "code",
   "execution_count": 13,
   "id": "5b666e6a",
   "metadata": {},
   "outputs": [
    {
     "name": "stdout",
     "output_type": "stream",
     "text": [
      "The split results in a total of 230 and 53 reports in the development and test sets, respectively.\n"
     ]
    }
   ],
   "source": [
    "# Concatenate subsets of data\n",
    "dev_data = pd.concat([dev_data, df.iloc[dev_idx]], axis=0)\n",
    "test_data = pd.concat([test_data, df.iloc[test_idx]], axis=0)\n",
    "\n",
    "# Verify that all reports from the same patient belong to one subset of data\n",
    "assert set(dev_data.patient_id.unique()).intersection(set(test_data.patient_id.unique())) == set()\n",
    "\n",
    "print(\"The split results in a total of %d and %d reports in the development and test sets, respectively.\" %\n",
    "      (dev_data.shape[0], test_data.shape[0]))"
   ]
  },
  {
   "cell_type": "code",
   "execution_count": 14,
   "id": "0dd87b3c",
   "metadata": {},
   "outputs": [
    {
     "name": "stdout",
     "output_type": "stream",
     "text": [
      "DEVELOPMENT SET\n",
      "Number of patients: 164\n",
      "Number of reports: 230\n",
      "\n",
      "Report-level annotation:\n",
      "Negative    198\n",
      "Positive     32\n",
      "Name: y_report, dtype: int64\n",
      "\n",
      "Proportion of positive reports: 13.9%\n",
      "\n",
      "TEST SET\n",
      "Number of patients: 37\n",
      "Number of reports: 53\n",
      "\n",
      "Report-level annotation:\n",
      "Negative    45\n",
      "Positive     8\n",
      "Name: y_report, dtype: int64\n",
      "\n",
      "Proportion of positive reports: 15.1%\n"
     ]
    }
   ],
   "source": [
    "print(\"DEVELOPMENT SET\")\n",
    "utils.print_stats(dev_data)\n",
    "print()\n",
    "print(\"TEST SET\")\n",
    "utils.print_stats(test_data)"
   ]
  },
  {
   "cell_type": "code",
   "execution_count": 15,
   "id": "7f3c5967",
   "metadata": {},
   "outputs": [],
   "source": [
    "# Save data\n",
    "dev_data.to_csv(\"../datasets/reports_dev.csv\", index=False)\n",
    "test_data.to_csv(\"../datasets/reports_test.csv\", index=False)"
   ]
  }
 ],
 "metadata": {
  "kernelspec": {
   "display_name": "Python 3 (ipykernel)",
   "language": "python",
   "name": "python3"
  },
  "language_info": {
   "codemirror_mode": {
    "name": "ipython",
    "version": 3
   },
   "file_extension": ".py",
   "mimetype": "text/x-python",
   "name": "python",
   "nbconvert_exporter": "python",
   "pygments_lexer": "ipython3",
   "version": "3.8.10"
  }
 },
 "nbformat": 4,
 "nbformat_minor": 5
}
