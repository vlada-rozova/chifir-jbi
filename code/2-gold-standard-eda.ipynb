{
 "cells": [
  {
   "cell_type": "code",
   "execution_count": 1,
   "id": "d5bedd4d",
   "metadata": {
    "scrolled": true
   },
   "outputs": [],
   "source": [
    "import numpy as np\n",
    "import pandas as pd\n",
    "from utils.prod import get_feature_names\n",
    "from utils import text"
   ]
  },
  {
   "cell_type": "markdown",
   "id": "572a93b2",
   "metadata": {},
   "source": [
    "___\n",
    "# EDA on the gold standard annotations\n",
    "### Load data"
   ]
  },
  {
   "cell_type": "code",
   "execution_count": 2,
   "id": "2fa3a2a9",
   "metadata": {},
   "outputs": [
    {
     "name": "stdout",
     "output_type": "stream",
     "text": [
      "(283, 6)\n"
     ]
    },
    {
     "data": {
      "text/html": [
       "<div>\n",
       "<style scoped>\n",
       "    .dataframe tbody tr th:only-of-type {\n",
       "        vertical-align: middle;\n",
       "    }\n",
       "\n",
       "    .dataframe tbody tr th {\n",
       "        vertical-align: top;\n",
       "    }\n",
       "\n",
       "    .dataframe thead th {\n",
       "        text-align: right;\n",
       "    }\n",
       "</style>\n",
       "<table border=\"1\" class=\"dataframe\">\n",
       "  <thead>\n",
       "    <tr style=\"text-align: right;\">\n",
       "      <th></th>\n",
       "      <th>patient_id</th>\n",
       "      <th>report_no</th>\n",
       "      <th>y_report</th>\n",
       "      <th>histopathology_id</th>\n",
       "      <th>val_fold</th>\n",
       "      <th>dataset</th>\n",
       "    </tr>\n",
       "  </thead>\n",
       "  <tbody>\n",
       "    <tr>\n",
       "      <th>0</th>\n",
       "      <td>13</td>\n",
       "      <td>1</td>\n",
       "      <td>Positive</td>\n",
       "      <td>658</td>\n",
       "      <td>10.0</td>\n",
       "      <td>development</td>\n",
       "    </tr>\n",
       "    <tr>\n",
       "      <th>1</th>\n",
       "      <td>14</td>\n",
       "      <td>1</td>\n",
       "      <td>Positive</td>\n",
       "      <td>189</td>\n",
       "      <td>7.0</td>\n",
       "      <td>development</td>\n",
       "    </tr>\n",
       "    <tr>\n",
       "      <th>2</th>\n",
       "      <td>28</td>\n",
       "      <td>1</td>\n",
       "      <td>Negative</td>\n",
       "      <td>529</td>\n",
       "      <td>8.0</td>\n",
       "      <td>development</td>\n",
       "    </tr>\n",
       "    <tr>\n",
       "      <th>3</th>\n",
       "      <td>28</td>\n",
       "      <td>2</td>\n",
       "      <td>Positive</td>\n",
       "      <td>325</td>\n",
       "      <td>8.0</td>\n",
       "      <td>development</td>\n",
       "    </tr>\n",
       "    <tr>\n",
       "      <th>4</th>\n",
       "      <td>28</td>\n",
       "      <td>3</td>\n",
       "      <td>Negative</td>\n",
       "      <td>559</td>\n",
       "      <td>8.0</td>\n",
       "      <td>development</td>\n",
       "    </tr>\n",
       "  </tbody>\n",
       "</table>\n",
       "</div>"
      ],
      "text/plain": [
       "   patient_id  report_no  y_report  histopathology_id  val_fold      dataset\n",
       "0          13          1  Positive                658      10.0  development\n",
       "1          14          1  Positive                189       7.0  development\n",
       "2          28          1  Negative                529       8.0  development\n",
       "3          28          2  Positive                325       8.0  development\n",
       "4          28          3  Negative                559       8.0  development"
      ]
     },
     "execution_count": 2,
     "metadata": {},
     "output_type": "execute_result"
    }
   ],
   "source": [
    "# Define path to CHIFIR dataset\n",
    "path = \"../../../Data/CHIFIR/\"\n",
    "\n",
    "# Load metadata for the full / training / test set\n",
    "df = pd.read_csv(path + \"/chifir_metadata.csv\")\n",
    "print(df.shape)\n",
    "df.head()"
   ]
  },
  {
   "cell_type": "code",
   "execution_count": 3,
   "id": "9a72ed18",
   "metadata": {},
   "outputs": [
    {
     "name": "stdout",
     "output_type": "stream",
     "text": [
      "(1155, 10)\n"
     ]
    },
    {
     "data": {
      "text/html": [
       "<div>\n",
       "<style scoped>\n",
       "    .dataframe tbody tr th:only-of-type {\n",
       "        vertical-align: middle;\n",
       "    }\n",
       "\n",
       "    .dataframe tbody tr th {\n",
       "        vertical-align: top;\n",
       "    }\n",
       "\n",
       "    .dataframe thead th {\n",
       "        text-align: right;\n",
       "    }\n",
       "</style>\n",
       "<table border=\"1\" class=\"dataframe\">\n",
       "  <thead>\n",
       "    <tr style=\"text-align: right;\">\n",
       "      <th></th>\n",
       "      <th>histopathology_id</th>\n",
       "      <th>patient_id</th>\n",
       "      <th>report_no</th>\n",
       "      <th>concept_id</th>\n",
       "      <th>concept</th>\n",
       "      <th>phrase</th>\n",
       "      <th>start_char</th>\n",
       "      <th>end_char</th>\n",
       "      <th>preceding</th>\n",
       "      <th>following</th>\n",
       "    </tr>\n",
       "  </thead>\n",
       "  <tbody>\n",
       "    <tr>\n",
       "      <th>0</th>\n",
       "      <td>658</td>\n",
       "      <td>13</td>\n",
       "      <td>1</td>\n",
       "      <td>T2</td>\n",
       "      <td>Invasiveness</td>\n",
       "      <td>intravascular spaces</td>\n",
       "      <td>669</td>\n",
       "      <td>689</td>\n",
       "      <td>NaN</td>\n",
       "      <td>NaN</td>\n",
       "    </tr>\n",
       "    <tr>\n",
       "      <th>1</th>\n",
       "      <td>658</td>\n",
       "      <td>13</td>\n",
       "      <td>1</td>\n",
       "      <td>T4</td>\n",
       "      <td>Stain</td>\n",
       "      <td>PAS</td>\n",
       "      <td>715</td>\n",
       "      <td>718</td>\n",
       "      <td>NaN</td>\n",
       "      <td>NaN</td>\n",
       "    </tr>\n",
       "    <tr>\n",
       "      <th>2</th>\n",
       "      <td>658</td>\n",
       "      <td>13</td>\n",
       "      <td>1</td>\n",
       "      <td>T5</td>\n",
       "      <td>Stain</td>\n",
       "      <td>GMS</td>\n",
       "      <td>723</td>\n",
       "      <td>726</td>\n",
       "      <td>NaN</td>\n",
       "      <td>NaN</td>\n",
       "    </tr>\n",
       "    <tr>\n",
       "      <th>3</th>\n",
       "      <td>658</td>\n",
       "      <td>13</td>\n",
       "      <td>1</td>\n",
       "      <td>T9</td>\n",
       "      <td>positive</td>\n",
       "      <td>positive</td>\n",
       "      <td>700</td>\n",
       "      <td>708</td>\n",
       "      <td>False</td>\n",
       "      <td>True</td>\n",
       "    </tr>\n",
       "    <tr>\n",
       "      <th>4</th>\n",
       "      <td>658</td>\n",
       "      <td>13</td>\n",
       "      <td>1</td>\n",
       "      <td>T3</td>\n",
       "      <td>FungalDescriptor</td>\n",
       "      <td>necrotic fungi</td>\n",
       "      <td>651</td>\n",
       "      <td>665</td>\n",
       "      <td>NaN</td>\n",
       "      <td>NaN</td>\n",
       "    </tr>\n",
       "  </tbody>\n",
       "</table>\n",
       "</div>"
      ],
      "text/plain": [
       "   histopathology_id  patient_id  report_no concept_id           concept  \\\n",
       "0                658          13          1         T2      Invasiveness   \n",
       "1                658          13          1         T4             Stain   \n",
       "2                658          13          1         T5             Stain   \n",
       "3                658          13          1         T9          positive   \n",
       "4                658          13          1         T3  FungalDescriptor   \n",
       "\n",
       "                 phrase  start_char  end_char preceding following  \n",
       "0  intravascular spaces         669       689       NaN       NaN  \n",
       "1                   PAS         715       718       NaN       NaN  \n",
       "2                   GMS         723       726       NaN       NaN  \n",
       "3              positive         700       708     False      True  \n",
       "4        necrotic fungi         651       665       NaN       NaN  "
      ]
     },
     "execution_count": 3,
     "metadata": {},
     "output_type": "execute_result"
    }
   ],
   "source": [
    "# Load gold standard annotations\n",
    "concepts = text.load_annotations('concepts')\n",
    "print(concepts.shape)\n",
    "concepts.head()"
   ]
  },
  {
   "cell_type": "code",
   "execution_count": 4,
   "id": "f71a6406",
   "metadata": {},
   "outputs": [
    {
     "name": "stdout",
     "output_type": "stream",
     "text": [
      "(606, 7)\n"
     ]
    },
    {
     "data": {
      "text/html": [
       "<div>\n",
       "<style scoped>\n",
       "    .dataframe tbody tr th:only-of-type {\n",
       "        vertical-align: middle;\n",
       "    }\n",
       "\n",
       "    .dataframe tbody tr th {\n",
       "        vertical-align: top;\n",
       "    }\n",
       "\n",
       "    .dataframe thead th {\n",
       "        text-align: right;\n",
       "    }\n",
       "</style>\n",
       "<table border=\"1\" class=\"dataframe\">\n",
       "  <thead>\n",
       "    <tr style=\"text-align: right;\">\n",
       "      <th></th>\n",
       "      <th>histopathology_id</th>\n",
       "      <th>patient_id</th>\n",
       "      <th>report_no</th>\n",
       "      <th>relation_id</th>\n",
       "      <th>relation</th>\n",
       "      <th>arg1</th>\n",
       "      <th>arg2</th>\n",
       "    </tr>\n",
       "  </thead>\n",
       "  <tbody>\n",
       "    <tr>\n",
       "      <th>0</th>\n",
       "      <td>658</td>\n",
       "      <td>13</td>\n",
       "      <td>1</td>\n",
       "      <td>R2</td>\n",
       "      <td>positive-rel</td>\n",
       "      <td>T9</td>\n",
       "      <td>T3</td>\n",
       "    </tr>\n",
       "    <tr>\n",
       "      <th>1</th>\n",
       "      <td>658</td>\n",
       "      <td>13</td>\n",
       "      <td>1</td>\n",
       "      <td>R3</td>\n",
       "      <td>fungus-stain-rel</td>\n",
       "      <td>T4</td>\n",
       "      <td>T3</td>\n",
       "    </tr>\n",
       "    <tr>\n",
       "      <th>2</th>\n",
       "      <td>658</td>\n",
       "      <td>13</td>\n",
       "      <td>1</td>\n",
       "      <td>R4</td>\n",
       "      <td>fungus-stain-rel</td>\n",
       "      <td>T5</td>\n",
       "      <td>T3</td>\n",
       "    </tr>\n",
       "    <tr>\n",
       "      <th>3</th>\n",
       "      <td>658</td>\n",
       "      <td>13</td>\n",
       "      <td>1</td>\n",
       "      <td>R1</td>\n",
       "      <td>positive-rel</td>\n",
       "      <td>T8</td>\n",
       "      <td>T6</td>\n",
       "    </tr>\n",
       "    <tr>\n",
       "      <th>4</th>\n",
       "      <td>658</td>\n",
       "      <td>13</td>\n",
       "      <td>1</td>\n",
       "      <td>R5</td>\n",
       "      <td>invasiveness-rel</td>\n",
       "      <td>T2</td>\n",
       "      <td>T3</td>\n",
       "    </tr>\n",
       "  </tbody>\n",
       "</table>\n",
       "</div>"
      ],
      "text/plain": [
       "   histopathology_id  patient_id  report_no relation_id          relation  \\\n",
       "0                658          13          1          R2      positive-rel   \n",
       "1                658          13          1          R3  fungus-stain-rel   \n",
       "2                658          13          1          R4  fungus-stain-rel   \n",
       "3                658          13          1          R1      positive-rel   \n",
       "4                658          13          1          R5  invasiveness-rel   \n",
       "\n",
       "  arg1 arg2  \n",
       "0   T9   T3  \n",
       "1   T4   T3  \n",
       "2   T5   T3  \n",
       "3   T8   T6  \n",
       "4   T2   T3  "
      ]
     },
     "execution_count": 4,
     "metadata": {},
     "output_type": "execute_result"
    }
   ],
   "source": [
    "relations = text.load_annotations('relations')\n",
    "print(relations.shape)\n",
    "relations.head()"
   ]
  },
  {
   "cell_type": "code",
   "execution_count": 5,
   "id": "b5ccd967",
   "metadata": {},
   "outputs": [
    {
     "name": "stdout",
     "output_type": "stream",
     "text": [
      "(1497, 10)\n"
     ]
    },
    {
     "data": {
      "text/html": [
       "<div>\n",
       "<style scoped>\n",
       "    .dataframe tbody tr th:only-of-type {\n",
       "        vertical-align: middle;\n",
       "    }\n",
       "\n",
       "    .dataframe tbody tr th {\n",
       "        vertical-align: top;\n",
       "    }\n",
       "\n",
       "    .dataframe thead th {\n",
       "        text-align: right;\n",
       "    }\n",
       "</style>\n",
       "<table border=\"1\" class=\"dataframe\">\n",
       "  <thead>\n",
       "    <tr style=\"text-align: right;\">\n",
       "      <th></th>\n",
       "      <th>histopathology_id</th>\n",
       "      <th>patient_id</th>\n",
       "      <th>report_no</th>\n",
       "      <th>concept_id</th>\n",
       "      <th>concept</th>\n",
       "      <th>phrase</th>\n",
       "      <th>start_char</th>\n",
       "      <th>end_char</th>\n",
       "      <th>preceding</th>\n",
       "      <th>following</th>\n",
       "    </tr>\n",
       "  </thead>\n",
       "  <tbody>\n",
       "    <tr>\n",
       "      <th>0</th>\n",
       "      <td>658</td>\n",
       "      <td>13</td>\n",
       "      <td>1</td>\n",
       "      <td>T2</td>\n",
       "      <td>Invasiveness</td>\n",
       "      <td>intravascular spaces</td>\n",
       "      <td>669</td>\n",
       "      <td>689</td>\n",
       "      <td>NaN</td>\n",
       "      <td>NaN</td>\n",
       "    </tr>\n",
       "    <tr>\n",
       "      <th>1</th>\n",
       "      <td>658</td>\n",
       "      <td>13</td>\n",
       "      <td>1</td>\n",
       "      <td>T4</td>\n",
       "      <td>Stain</td>\n",
       "      <td>PAS</td>\n",
       "      <td>715</td>\n",
       "      <td>718</td>\n",
       "      <td>NaN</td>\n",
       "      <td>NaN</td>\n",
       "    </tr>\n",
       "    <tr>\n",
       "      <th>2</th>\n",
       "      <td>658</td>\n",
       "      <td>13</td>\n",
       "      <td>1</td>\n",
       "      <td>T5</td>\n",
       "      <td>Stain</td>\n",
       "      <td>GMS</td>\n",
       "      <td>723</td>\n",
       "      <td>726</td>\n",
       "      <td>NaN</td>\n",
       "      <td>NaN</td>\n",
       "    </tr>\n",
       "    <tr>\n",
       "      <th>3</th>\n",
       "      <td>658</td>\n",
       "      <td>13</td>\n",
       "      <td>1</td>\n",
       "      <td>T9</td>\n",
       "      <td>positive</td>\n",
       "      <td>positive</td>\n",
       "      <td>700</td>\n",
       "      <td>708</td>\n",
       "      <td>False</td>\n",
       "      <td>True</td>\n",
       "    </tr>\n",
       "    <tr>\n",
       "      <th>4</th>\n",
       "      <td>658</td>\n",
       "      <td>13</td>\n",
       "      <td>1</td>\n",
       "      <td>T3</td>\n",
       "      <td>FungalDescriptor</td>\n",
       "      <td>necrotic fungi</td>\n",
       "      <td>651</td>\n",
       "      <td>665</td>\n",
       "      <td>NaN</td>\n",
       "      <td>NaN</td>\n",
       "    </tr>\n",
       "  </tbody>\n",
       "</table>\n",
       "</div>"
      ],
      "text/plain": [
       "   histopathology_id  patient_id  report_no concept_id           concept  \\\n",
       "0                658          13          1         T2      Invasiveness   \n",
       "1                658          13          1         T4             Stain   \n",
       "2                658          13          1         T5             Stain   \n",
       "3                658          13          1         T9          positive   \n",
       "4                658          13          1         T3  FungalDescriptor   \n",
       "\n",
       "                 phrase  start_char  end_char preceding following  \n",
       "0  intravascular spaces         669       689       NaN       NaN  \n",
       "1                   PAS         715       718       NaN       NaN  \n",
       "2                   GMS         723       726       NaN       NaN  \n",
       "3              positive         700       708     False      True  \n",
       "4        necrotic fungi         651       665       NaN       NaN  "
      ]
     },
     "execution_count": 5,
     "metadata": {},
     "output_type": "execute_result"
    }
   ],
   "source": [
    "composite_concepts = text.load_annotations('composite')\n",
    "print(composite_concepts.shape)\n",
    "composite_concepts.head()"
   ]
  },
  {
   "cell_type": "code",
   "execution_count": 6,
   "id": "bd98c195",
   "metadata": {},
   "outputs": [
    {
     "data": {
      "text/plain": [
       "((1155, 10), (606, 7), (1497, 10))"
      ]
     },
     "execution_count": 6,
     "metadata": {},
     "output_type": "execute_result"
    }
   ],
   "source": [
    "# Filter to caluclate stats on dev and test sets\n",
    "concepts = concepts.merge(df.histopathology_id)\n",
    "relations = relations.merge(df.histopathology_id)\n",
    "composite_concepts = composite_concepts.merge(df.histopathology_id)\n",
    "\n",
    "concepts.shape, relations.shape, composite_concepts.shape"
   ]
  },
  {
   "cell_type": "code",
   "execution_count": 7,
   "id": "17ed8163",
   "metadata": {},
   "outputs": [
    {
     "name": "stdout",
     "output_type": "stream",
     "text": [
      "24 reports with no annotations of any kind.\n",
      "24 reports with no concepts.\n",
      "149 reports with no relations.\n"
     ]
    }
   ],
   "source": [
    "# Number of reports with no annotations\n",
    "print(\"%d reports with no annotations of any kind.\" % \n",
    "      (~df.histopathology_id.isin(concepts.histopathology_id) & \n",
    "       ~df.histopathology_id.isin(relations.histopathology_id)).sum())\n",
    "\n",
    "print(\"%d reports with no concepts.\" % (~df.histopathology_id.isin(concepts.histopathology_id)).sum())\n",
    "\n",
    "print(\"%d reports with no relations.\" % (~df.histopathology_id.isin(relations.histopathology_id)).sum())"
   ]
  },
  {
   "cell_type": "markdown",
   "id": "b3791417",
   "metadata": {},
   "source": [
    "### Summary statistics for concepts"
   ]
  },
  {
   "cell_type": "code",
   "execution_count": 8,
   "id": "a126f015",
   "metadata": {},
   "outputs": [
    {
     "data": {
      "text/plain": [
       "3.0"
      ]
     },
     "execution_count": 8,
     "metadata": {},
     "output_type": "execute_result"
    }
   ],
   "source": [
    "# Median number of concepts in the annotated reports\n",
    "concepts.groupby('histopathology_id').size().median()"
   ]
  },
  {
   "cell_type": "code",
   "execution_count": 9,
   "id": "be3d5f61",
   "metadata": {},
   "outputs": [
    {
     "data": {
      "text/plain": [
       "concept\n",
       "ClinicalQuery        68\n",
       "FungalDescriptor    295\n",
       "Fungus              106\n",
       "Invasiveness         39\n",
       "Stain               172\n",
       "SampleType          198\n",
       "positive            117\n",
       "equivocal             8\n",
       "negative            152\n",
       "Name: count, dtype: int64"
      ]
     },
     "execution_count": 9,
     "metadata": {},
     "output_type": "execute_result"
    }
   ],
   "source": [
    "# Total occurences for each category\n",
    "concepts.concept.value_counts().sort_index()"
   ]
  },
  {
   "cell_type": "code",
   "execution_count": 10,
   "id": "d5dab95a",
   "metadata": {},
   "outputs": [
    {
     "data": {
      "text/plain": [
       "concept\n",
       "ClinicalQuery        53\n",
       "FungalDescriptor    128\n",
       "Fungus               60\n",
       "Invasiveness         12\n",
       "Stain               100\n",
       "SampleType          179\n",
       "positive             42\n",
       "equivocal             5\n",
       "negative            104\n",
       "Name: histopathology_id, dtype: int64"
      ]
     },
     "execution_count": 10,
     "metadata": {},
     "output_type": "execute_result"
    }
   ],
   "source": [
    "# Number of reports with at least one occurrence\n",
    "concepts.groupby('concept', observed=False).histopathology_id.nunique()"
   ]
  },
  {
   "cell_type": "code",
   "execution_count": 11,
   "id": "2a2cdcc4",
   "metadata": {},
   "outputs": [
    {
     "data": {
      "text/plain": [
       "concept\n",
       "ClinicalQuery       43\n",
       "FungalDescriptor    85\n",
       "Fungus              19\n",
       "Invasiveness        27\n",
       "Stain               16\n",
       "SampleType          64\n",
       "positive            40\n",
       "equivocal            6\n",
       "negative            12\n",
       "Name: phrase, dtype: int64"
      ]
     },
     "execution_count": 11,
     "metadata": {},
     "output_type": "execute_result"
    }
   ],
   "source": [
    "# Number of unique phrases\n",
    "concepts.groupby('concept', observed=False).phrase.nunique()"
   ]
  },
  {
   "cell_type": "code",
   "execution_count": 12,
   "id": "9d6ad0e1",
   "metadata": {},
   "outputs": [
    {
     "data": {
      "text/plain": [
       "concept\n",
       "ClinicalQuery       0.63\n",
       "FungalDescriptor    0.29\n",
       "Fungus              0.18\n",
       "Invasiveness        0.69\n",
       "Stain               0.09\n",
       "SampleType          0.32\n",
       "positive            0.34\n",
       "equivocal           0.75\n",
       "negative            0.08\n",
       "dtype: float64"
      ]
     },
     "execution_count": 12,
     "metadata": {},
     "output_type": "execute_result"
    }
   ],
   "source": [
    "# Lexical diversity\n",
    "(concepts.groupby('concept', observed=False).phrase.nunique() / concepts.concept.value_counts().sort_index()).round(2)"
   ]
  },
  {
   "cell_type": "code",
   "execution_count": 13,
   "id": "5dd0f7de",
   "metadata": {},
   "outputs": [
    {
     "data": {
      "text/plain": [
       "concept           y_report\n",
       "ClinicalQuery     Negative    0.59\n",
       "                  Positive    0.41\n",
       "FungalDescriptor  Negative    0.45\n",
       "                  Positive    0.55\n",
       "Fungus            Negative    0.42\n",
       "                  Positive    0.58\n",
       "Invasiveness      Negative    0.00\n",
       "                  Positive    1.00\n",
       "Stain             Negative    0.72\n",
       "                  Positive    0.28\n",
       "SampleType        Negative    0.86\n",
       "                  Positive    0.14\n",
       "positive          Negative    0.03\n",
       "                  Positive    0.97\n",
       "equivocal         Negative    0.00\n",
       "                  Positive    1.00\n",
       "negative          Negative    0.86\n",
       "                  Positive    0.14\n",
       "Name: proportion, dtype: float64"
      ]
     },
     "execution_count": 13,
     "metadata": {},
     "output_type": "execute_result"
    }
   ],
   "source": [
    "# Percentage of occurrences in positive reports\n",
    "concepts = concepts.merge(df[['histopathology_id', 'y_report']])\n",
    "concepts.groupby('concept', observed=False).y_report.value_counts(normalize=True).sort_index().round(2)"
   ]
  },
  {
   "cell_type": "markdown",
   "id": "c26f7dd5",
   "metadata": {},
   "source": [
    "### Summary statistics for relations"
   ]
  },
  {
   "cell_type": "code",
   "execution_count": 14,
   "id": "2e4b509f",
   "metadata": {},
   "outputs": [
    {
     "data": {
      "text/plain": [
       "4.0"
      ]
     },
     "execution_count": 14,
     "metadata": {},
     "output_type": "execute_result"
    }
   ],
   "source": [
    "# Median number of relations in the annotated reports\n",
    "relations.groupby('histopathology_id').size().median()"
   ]
  },
  {
   "cell_type": "code",
   "execution_count": 15,
   "id": "8909eb34",
   "metadata": {},
   "outputs": [
    {
     "data": {
      "text/plain": [
       "relation\n",
       "positive-rel              144\n",
       "equivocal-rel               9\n",
       "negative-rel              201\n",
       "fungal-description-rel     41\n",
       "invasiveness-rel           38\n",
       "fungus-stain-rel          173\n",
       "Name: count, dtype: int64"
      ]
     },
     "execution_count": 15,
     "metadata": {},
     "output_type": "execute_result"
    }
   ],
   "source": [
    "# Total occurences for each category\n",
    "relations.relation.value_counts().sort_index()"
   ]
  },
  {
   "cell_type": "code",
   "execution_count": 16,
   "id": "43d8c51a",
   "metadata": {},
   "outputs": [
    {
     "data": {
      "text/plain": [
       "relation\n",
       "positive-rel               42\n",
       "equivocal-rel               5\n",
       "negative-rel              104\n",
       "fungal-description-rel     22\n",
       "invasiveness-rel           12\n",
       "fungus-stain-rel           93\n",
       "Name: histopathology_id, dtype: int64"
      ]
     },
     "execution_count": 16,
     "metadata": {},
     "output_type": "execute_result"
    }
   ],
   "source": [
    "# Number of reports with at least one occurrence\n",
    "relations.groupby('relation', observed=False).histopathology_id.nunique()"
   ]
  },
  {
   "cell_type": "code",
   "execution_count": 17,
   "id": "6727dff9",
   "metadata": {},
   "outputs": [
    {
     "data": {
      "text/plain": [
       "relation                y_report\n",
       "positive-rel            Negative    0.03\n",
       "                        Positive    0.97\n",
       "equivocal-rel           Negative    0.00\n",
       "                        Positive    1.00\n",
       "negative-rel            Negative    0.88\n",
       "                        Positive    0.12\n",
       "fungal-description-rel  Negative    0.00\n",
       "                        Positive    1.00\n",
       "invasiveness-rel        Negative    0.00\n",
       "                        Positive    1.00\n",
       "fungus-stain-rel        Negative    0.74\n",
       "                        Positive    0.26\n",
       "Name: proportion, dtype: float64"
      ]
     },
     "execution_count": 17,
     "metadata": {},
     "output_type": "execute_result"
    }
   ],
   "source": [
    "# Percentage of occurrences in positive reports\n",
    "relations = relations.merge(df[['histopathology_id', 'y_report']])\n",
    "relations.groupby('relation', observed=False).y_report.value_counts(normalize=True).sort_index().round(2)"
   ]
  },
  {
   "cell_type": "code",
   "execution_count": 18,
   "id": "fbbef758",
   "metadata": {},
   "outputs": [
    {
     "data": {
      "text/plain": [
       "concept\n",
       "ClinicalQuery                68\n",
       "FungalDescriptor            295\n",
       "Fungus                      106\n",
       "Invasiveness                 39\n",
       "Stain                       172\n",
       "SampleType                  198\n",
       "positive                    117\n",
       "equivocal                     8\n",
       "negative                    152\n",
       "affirmedFungalDescriptor    101\n",
       "affirmedFungus               37\n",
       "affirmedInvasiveness          1\n",
       "affirmedStain                 2\n",
       "negatedFungalDescriptor     138\n",
       "negatedFungus                53\n",
       "negatedInvasiveness           6\n",
       "negatedStain                  4\n",
       "Name: count, dtype: int64"
      ]
     },
     "execution_count": 18,
     "metadata": {},
     "output_type": "execute_result"
    }
   ],
   "source": [
    "# Total occurences for each category\n",
    "composite_concepts.concept.value_counts().sort_index()"
   ]
  },
  {
   "cell_type": "code",
   "execution_count": 19,
   "id": "0e8a6e99",
   "metadata": {},
   "outputs": [
    {
     "data": {
      "text/plain": [
       "concept\n",
       "ClinicalQuery                53\n",
       "FungalDescriptor            128\n",
       "Fungus                       60\n",
       "Invasiveness                 12\n",
       "Stain                       100\n",
       "SampleType                  179\n",
       "positive                     42\n",
       "equivocal                     5\n",
       "negative                    104\n",
       "affirmedFungalDescriptor     38\n",
       "affirmedFungus               24\n",
       "affirmedInvasiveness          1\n",
       "affirmedStain                 2\n",
       "negatedFungalDescriptor      96\n",
       "negatedFungus                35\n",
       "negatedInvasiveness           4\n",
       "negatedStain                  4\n",
       "Name: histopathology_id, dtype: int64"
      ]
     },
     "execution_count": 19,
     "metadata": {},
     "output_type": "execute_result"
    }
   ],
   "source": [
    "# Number of reports with at least one occurrence\n",
    "composite_concepts.groupby('concept', observed=False).histopathology_id.nunique()"
   ]
  },
  {
   "cell_type": "code",
   "execution_count": 20,
   "id": "858bd0b9",
   "metadata": {},
   "outputs": [
    {
     "data": {
      "text/plain": [
       "concept                   y_report\n",
       "ClinicalQuery             Negative    0.59\n",
       "                          Positive    0.41\n",
       "FungalDescriptor          Negative    0.45\n",
       "                          Positive    0.55\n",
       "Fungus                    Negative    0.42\n",
       "                          Positive    0.58\n",
       "Invasiveness              Negative    0.00\n",
       "                          Positive    1.00\n",
       "Stain                     Negative    0.72\n",
       "                          Positive    0.28\n",
       "SampleType                Negative    0.86\n",
       "                          Positive    0.14\n",
       "positive                  Negative    0.03\n",
       "                          Positive    0.97\n",
       "equivocal                 Negative    0.00\n",
       "                          Positive    1.00\n",
       "negative                  Negative    0.86\n",
       "                          Positive    0.14\n",
       "affirmedFungalDescriptor  Negative    0.04\n",
       "                          Positive    0.96\n",
       "affirmedFungus            Negative    0.00\n",
       "                          Positive    1.00\n",
       "affirmedInvasiveness      Negative    0.00\n",
       "                          Positive    1.00\n",
       "affirmedStain             Negative    0.00\n",
       "                          Positive    1.00\n",
       "negatedFungalDescriptor   Negative    0.92\n",
       "                          Positive    0.08\n",
       "negatedFungus             Negative    0.85\n",
       "                          Positive    0.15\n",
       "negatedInvasiveness       Negative    0.00\n",
       "                          Positive    1.00\n",
       "negatedStain              Negative    1.00\n",
       "                          Positive    0.00\n",
       "Name: proportion, dtype: float64"
      ]
     },
     "execution_count": 20,
     "metadata": {},
     "output_type": "execute_result"
    }
   ],
   "source": [
    "# Percentage of occurrences in positive reports\n",
    "composite_concepts = composite_concepts.merge(df[['histopathology_id', 'y_report']])\n",
    "composite_concepts.groupby('concept', observed=False).y_report.value_counts(normalize=True).sort_index().round(2)"
   ]
  },
  {
   "cell_type": "code",
   "execution_count": null,
   "id": "9cc9c9b6",
   "metadata": {},
   "outputs": [],
   "source": []
  },
  {
   "cell_type": "code",
   "execution_count": null,
   "id": "94fc0d48",
   "metadata": {},
   "outputs": [],
   "source": []
  }
 ],
 "metadata": {
  "kernelspec": {
   "display_name": "Python 3 (ipykernel)",
   "language": "python",
   "name": "python3"
  },
  "language_info": {
   "codemirror_mode": {
    "name": "ipython",
    "version": 3
   },
   "file_extension": ".py",
   "mimetype": "text/x-python",
   "name": "python",
   "nbconvert_exporter": "python",
   "pygments_lexer": "ipython3",
   "version": "3.10.13"
  }
 },
 "nbformat": 4,
 "nbformat_minor": 5
}
