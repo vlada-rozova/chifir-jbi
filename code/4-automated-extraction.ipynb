{
 "cells": [
  {
   "cell_type": "markdown",
   "id": "eaae6f7e",
   "metadata": {},
   "source": [
    "___\n",
    "# Automated extraction of IFI-related information\n",
    "___"
   ]
  },
  {
   "cell_type": "code",
   "execution_count": 1,
   "id": "870dccb4",
   "metadata": {},
   "outputs": [],
   "source": [
    "import numpy as np\n",
    "import pandas as pd\n",
    "from utils import text, prod, eval_ner\n",
    "from utils.dev import get_cv_strategy\n",
    "\n",
    "# import warnings\n",
    "# warnings.filterwarnings(\"ignore\")"
   ]
  },
  {
   "cell_type": "markdown",
   "id": "6baab281",
   "metadata": {},
   "source": [
    "___\n",
    "# Detect concepts and relations\n",
    "### Run concept recognition and relationship detection on the development set with CV\n",
    "**Load and prepare data**"
   ]
  },
  {
   "cell_type": "code",
   "execution_count": 2,
   "id": "dc4da3a2",
   "metadata": {},
   "outputs": [],
   "source": [
    "# Load the development set\n",
    "df = pd.read_csv(\"../datasets/reports_dev.csv\")\n",
    "\n",
    "# Clean data\n",
    "df['clean_text'] = df.order_results.apply(text.clean_text)"
   ]
  },
  {
   "cell_type": "markdown",
   "id": "41555305",
   "metadata": {},
   "source": [
    "**Run NER**"
   ]
  },
  {
   "cell_type": "code",
   "execution_count": 3,
   "id": "7689d6f2",
   "metadata": {},
   "outputs": [
    {
     "name": "stdout",
     "output_type": "stream",
     "text": [
      "Number of unique tokens in each category: [34, 58, 14, 21, 13, 44, 34, 6, 10]\n",
      "Number of unique tokens in each category after expanding: [34, 58, 14, 22, 13, 44, 34, 6, 10]\n",
      "Number of unique tokens in each termset: [28, 6, 28, 6]\n",
      "Number of unique tokens in each category: [32, 50, 14, 18, 12, 43, 32, 4, 10]\n",
      "Number of unique tokens in each category after expanding: [32, 50, 14, 21, 12, 43, 32, 4, 10]\n",
      "Number of unique tokens in each termset: [26, 6, 26, 6]\n",
      "Number of unique tokens in each category: [31, 59, 14, 21, 12, 43, 34, 6, 8]\n",
      "Number of unique tokens in each category after expanding: [31, 59, 14, 22, 12, 43, 34, 6, 8]\n",
      "Number of unique tokens in each termset: [28, 5, 28, 5]\n",
      "Number of unique tokens in each category: [29, 57, 13, 21, 12, 40, 33, 6, 10]\n",
      "Number of unique tokens in each category after expanding: [29, 57, 13, 22, 12, 40, 33, 6, 10]\n",
      "Number of unique tokens in each termset: [27, 6, 27, 6]\n",
      "Number of unique tokens in each category: [30, 55, 14, 17, 12, 39, 31, 6, 10]\n",
      "Number of unique tokens in each category after expanding: [30, 55, 14, 19, 12, 39, 31, 6, 10]\n",
      "Number of unique tokens in each termset: [25, 6, 25, 6]\n",
      "Number of unique tokens in each category: [30, 52, 13, 21, 13, 42, 30, 4, 10]\n",
      "Number of unique tokens in each category after expanding: [30, 52, 13, 22, 13, 42, 30, 4, 10]\n",
      "Number of unique tokens in each termset: [24, 6, 24, 6]\n",
      "Number of unique tokens in each category: [32, 60, 14, 19, 13, 42, 33, 6, 10]\n",
      "Number of unique tokens in each category after expanding: [32, 60, 14, 20, 13, 42, 33, 6, 10]\n",
      "Number of unique tokens in each termset: [27, 6, 27, 6]\n",
      "Number of unique tokens in each category: [29, 56, 13, 18, 12, 39, 30, 6, 8]\n",
      "Number of unique tokens in each category after expanding: [29, 56, 13, 19, 12, 39, 30, 6, 8]\n",
      "Number of unique tokens in each termset: [25, 5, 25, 5]\n",
      "Number of unique tokens in each category: [33, 53, 11, 15, 13, 38, 33, 6, 10]\n",
      "Number of unique tokens in each category after expanding: [33, 53, 11, 18, 13, 38, 33, 6, 10]\n",
      "Number of unique tokens in each termset: [27, 6, 27, 6]\n",
      "Number of unique tokens in each category: [34, 59, 14, 19, 13, 40, 31, 6, 10]\n",
      "Number of unique tokens in each category after expanding: [34, 59, 14, 20, 13, 40, 31, 6, 10]\n",
      "Number of unique tokens in each termset: [25, 6, 25, 6]\n"
     ]
    }
   ],
   "source": [
    "cv = get_cv_strategy()\n",
    "\n",
    "for train_idx, val_idx in cv.split(df.clean_text, df.y_report, df.patient_id):\n",
    "    \n",
    "    # Learn vocabulary and termsets\n",
    "    vocab = text.learn_vocab(df.loc[train_idx].histopathology_id, expand=True)\n",
    "    termset = text.learn_termset(df.loc[train_idx].histopathology_id)\n",
    "    \n",
    "    # Load NLP pipeline\n",
    "    nlp = text.build_nlp_pipeline(termset)\n",
    "    \n",
    "    # Match phrases in text to detect concepts\n",
    "    df.loc[val_idx, 'doc'] = text.detect_concepts(df.loc[val_idx, 'clean_text'], nlp, vocab)"
   ]
  },
  {
   "cell_type": "markdown",
   "id": "dd29d845",
   "metadata": {},
   "source": [
    "**Get detected concepts (either to use directly to evaluate NER or to get concept counts)**"
   ]
  },
  {
   "cell_type": "code",
   "execution_count": 4,
   "id": "f4218cd7",
   "metadata": {},
   "outputs": [],
   "source": [
    "# Transform predictions to a table of concepts\n",
    "detected_concepts = text.get_concepts(df)"
   ]
  },
  {
   "cell_type": "markdown",
   "id": "d618abac",
   "metadata": {},
   "source": [
    "**Evaluate NER**"
   ]
  },
  {
   "cell_type": "code",
   "execution_count": 5,
   "id": "3483103f",
   "metadata": {},
   "outputs": [
    {
     "name": "stdout",
     "output_type": "stream",
     "text": [
      "                           mean   std\n",
      "concept                              \n",
      "ClinicalQuery              0.98  0.08\n",
      "FungalDescriptor           0.73  0.10\n",
      "Fungus                     0.89  0.09\n",
      "Invasiveness               0.27  0.41\n",
      "Stain                      0.95  0.06\n",
      "SampleType                 0.14  0.03\n",
      "positive                   0.04  0.03\n",
      "equivocal                  0.01  0.01\n",
      "negative                   0.11  0.03\n",
      "affirmed_FungalDescriptor  0.42  0.18\n",
      "affirmed_Fungus            0.76  0.35\n",
      "affirmed_Invasiveness      0.03  0.07\n",
      "affirmed_Stain             0.04  0.08\n",
      "negated_FungalDescriptor   0.81  0.12\n",
      "negated_Fungus             0.96  0.08\n",
      "negated_Invasiveness       0.30  0.42\n",
      "negated_Stain              0.02  0.04\n",
      "                           mean   std\n",
      "concept                              \n",
      "ClinicalQuery              0.49  0.22\n",
      "FungalDescriptor           0.93  0.05\n",
      "Fungus                     0.93  0.14\n",
      "Invasiveness               0.35  0.42\n",
      "Stain                      0.96  0.07\n",
      "SampleType                 0.85  0.13\n",
      "positive                   0.73  0.30\n",
      "equivocal                  0.50  0.50\n",
      "negative                   0.97  0.07\n",
      "affirmed_FungalDescriptor  0.49  0.31\n",
      "affirmed_Fungus            0.61  0.35\n",
      "affirmed_Invasiveness      1.00   NaN\n",
      "affirmed_Stain             0.50  0.71\n",
      "negated_FungalDescriptor   0.93  0.11\n",
      "negated_Fungus             1.00  0.00\n",
      "negated_Invasiveness       0.50  0.71\n",
      "negated_Stain              0.67  0.58\n"
     ]
    },
    {
     "name": "stderr",
     "output_type": "stream",
     "text": [
      "/Users/vrozova/Library/CloudStorage/OneDrive-TheUniversityofMelbourne/IFIS/Analysis/chifir-jbi/code/utils/eval_ner.py:20: RuntimeWarning: invalid value encountered in scalar divide\n",
      "  return x.tp.sum() / (x.tp.sum()+x.fp.sum())\n",
      "/Users/vrozova/Library/CloudStorage/OneDrive-TheUniversityofMelbourne/IFIS/Analysis/chifir-jbi/code/utils/eval_ner.py:130: FutureWarning: The default of observed=False is deprecated and will be changed to True in a future version of pandas. Pass observed=False to retain current behavior or observed=True to adopt the future default and silence this warning.\n",
      "  ).apply(precision).groupby('concept').agg(['mean', 'std']).round(2))\n",
      "/Users/vrozova/Library/CloudStorage/OneDrive-TheUniversityofMelbourne/IFIS/Analysis/chifir-jbi/code/utils/eval_ner.py:30: RuntimeWarning: invalid value encountered in scalar divide\n",
      "  return x.tp.sum() / (x.tp.sum()+x.fn.sum())\n",
      "/Users/vrozova/Library/CloudStorage/OneDrive-TheUniversityofMelbourne/IFIS/Analysis/chifir-jbi/code/utils/eval_ner.py:134: FutureWarning: The default of observed=False is deprecated and will be changed to True in a future version of pandas. Pass observed=False to retain current behavior or observed=True to adopt the future default and silence this warning.\n",
      "  ).apply(recall).groupby('concept').agg(['mean', 'std']).round(2))\n"
     ]
    }
   ],
   "source": [
    "# Load gold standard concepts\n",
    "concepts = text.load_annotations('composite')\n",
    "\n",
    "# Get feature names\n",
    "feature_names = prod.get_feature_names(['concepts','composite'])\n",
    "\n",
    "# Calculate precision and recall\n",
    "eval_ner.evaluate_ner(df[['histopathology_id', 'val_fold']], \n",
    "                      concepts, detected_concepts, feature_names)"
   ]
  },
  {
   "cell_type": "markdown",
   "id": "5afec63f",
   "metadata": {},
   "source": [
    "### Run relationship detection using gold standard annotations on the development set with CV\n",
    "**Load and prepare data**"
   ]
  },
  {
   "cell_type": "code",
   "execution_count": 6,
   "id": "1a0e7a44",
   "metadata": {},
   "outputs": [],
   "source": [
    "# Load the development set\n",
    "df = pd.read_csv(\"../datasets/reports_dev.csv\")\n",
    "\n",
    "# Clean data\n",
    "df['clean_text'] = df.order_results.apply(text.clean_text)"
   ]
  },
  {
   "cell_type": "markdown",
   "id": "7ed3c5a6",
   "metadata": {},
   "source": [
    "**Run NER**"
   ]
  },
  {
   "cell_type": "code",
   "execution_count": 7,
   "id": "0d1275ba",
   "metadata": {},
   "outputs": [
    {
     "name": "stdout",
     "output_type": "stream",
     "text": [
      "Number of unique tokens in each termset: [28, 6, 28, 6]\n",
      "Number of unique tokens in each termset: [26, 6, 26, 6]\n",
      "Number of unique tokens in each termset: [28, 5, 28, 5]\n",
      "Number of unique tokens in each termset: [27, 6, 27, 6]\n",
      "Number of unique tokens in each termset: [25, 6, 25, 6]\n",
      "Number of unique tokens in each termset: [24, 6, 24, 6]\n",
      "Number of unique tokens in each termset: [27, 6, 27, 6]\n",
      "Number of unique tokens in each termset: [25, 5, 25, 5]\n",
      "Number of unique tokens in each termset: [27, 6, 27, 6]\n",
      "Number of unique tokens in each termset: [25, 6, 25, 6]\n"
     ]
    }
   ],
   "source": [
    "cv = get_cv_strategy()\n",
    "\n",
    "for train_idx, val_idx in cv.split(df.clean_text, df.y_report, df.patient_id):\n",
    "    \n",
    "    # Learn termsets\n",
    "    termset = text.learn_termset(df.loc[train_idx].histopathology_id)\n",
    "    \n",
    "    # Load NLP pipeline\n",
    "    nlp = text.build_nlp_pipeline(termset)\n",
    "    \n",
    "    # Label known concepts\n",
    "    df.loc[val_idx, 'doc'] = text.label_concepts(df.loc[val_idx, ['histopathology_id', 'clean_text']], nlp)\n"
   ]
  },
  {
   "cell_type": "markdown",
   "id": "8f26fc9d",
   "metadata": {},
   "source": [
    "**Get detected concepts (either to use directly to evaluate NER or to get concept counts)**"
   ]
  },
  {
   "cell_type": "code",
   "execution_count": 8,
   "id": "0c4810d2",
   "metadata": {},
   "outputs": [],
   "source": [
    "# Transform predictions to a table of concepts\n",
    "detected_concepts = text.get_concepts(df)"
   ]
  },
  {
   "cell_type": "markdown",
   "id": "0bc3087d",
   "metadata": {},
   "source": [
    "**Evaluate NER**"
   ]
  },
  {
   "cell_type": "code",
   "execution_count": 9,
   "id": "fc2c2bd3",
   "metadata": {},
   "outputs": [
    {
     "name": "stdout",
     "output_type": "stream",
     "text": [
      "                           mean   std\n",
      "concept                              \n",
      "ClinicalQuery              1.00  0.00\n",
      "FungalDescriptor           1.00  0.00\n",
      "Fungus                     1.00  0.00\n",
      "Invasiveness               1.00  0.00\n",
      "Stain                      1.00  0.00\n",
      "SampleType                 1.00  0.00\n",
      "positive                   1.00  0.00\n",
      "equivocal                  1.00  0.00\n",
      "negative                   1.00  0.00\n",
      "affirmed_FungalDescriptor  0.67  0.24\n",
      "affirmed_Fungus            0.78  0.34\n",
      "affirmed_Invasiveness      0.05  0.10\n",
      "affirmed_Stain             0.04  0.08\n",
      "negated_FungalDescriptor   0.97  0.05\n",
      "negated_Fungus             0.98  0.08\n",
      "negated_Invasiveness       0.53  0.50\n",
      "negated_Stain              0.02  0.04\n",
      "                           mean   std\n",
      "concept                              \n",
      "ClinicalQuery              1.00  0.00\n",
      "FungalDescriptor           1.00  0.00\n",
      "Fungus                     1.00  0.00\n",
      "Invasiveness               1.00  0.00\n",
      "Stain                      1.00  0.00\n",
      "SampleType                 1.00  0.00\n",
      "positive                   1.00  0.00\n",
      "equivocal                  1.00  0.00\n",
      "negative                   1.00  0.00\n",
      "affirmed_FungalDescriptor  0.56  0.35\n",
      "affirmed_Fungus            0.73  0.36\n",
      "affirmed_Invasiveness      1.00   NaN\n",
      "affirmed_Stain             0.50  0.71\n",
      "negated_FungalDescriptor   0.93  0.12\n",
      "negated_Fungus             1.00  0.00\n",
      "negated_Invasiveness       1.00  0.00\n",
      "negated_Stain              0.67  0.58\n"
     ]
    },
    {
     "name": "stderr",
     "output_type": "stream",
     "text": [
      "/Users/vrozova/Library/CloudStorage/OneDrive-TheUniversityofMelbourne/IFIS/Analysis/chifir-jbi/code/utils/eval_ner.py:20: RuntimeWarning: invalid value encountered in scalar divide\n",
      "  return x.tp.sum() / (x.tp.sum()+x.fp.sum())\n",
      "/Users/vrozova/Library/CloudStorage/OneDrive-TheUniversityofMelbourne/IFIS/Analysis/chifir-jbi/code/utils/eval_ner.py:130: FutureWarning: The default of observed=False is deprecated and will be changed to True in a future version of pandas. Pass observed=False to retain current behavior or observed=True to adopt the future default and silence this warning.\n",
      "  ).apply(precision).groupby('concept').agg(['mean', 'std']).round(2))\n",
      "/Users/vrozova/Library/CloudStorage/OneDrive-TheUniversityofMelbourne/IFIS/Analysis/chifir-jbi/code/utils/eval_ner.py:30: RuntimeWarning: invalid value encountered in scalar divide\n",
      "  return x.tp.sum() / (x.tp.sum()+x.fn.sum())\n",
      "/Users/vrozova/Library/CloudStorage/OneDrive-TheUniversityofMelbourne/IFIS/Analysis/chifir-jbi/code/utils/eval_ner.py:134: FutureWarning: The default of observed=False is deprecated and will be changed to True in a future version of pandas. Pass observed=False to retain current behavior or observed=True to adopt the future default and silence this warning.\n",
      "  ).apply(recall).groupby('concept').agg(['mean', 'std']).round(2))\n"
     ]
    }
   ],
   "source": [
    "# Load gold standard concepts\n",
    "concepts = text.load_annotations('composite')\n",
    "\n",
    "# Get feature names\n",
    "feature_names = prod.get_feature_names(['concepts','composite'])\n",
    "\n",
    "# Calculate precision and recall\n",
    "eval_ner.evaluate_ner(df[['histopathology_id', 'val_fold']], \n",
    "                      concepts, detected_concepts, feature_names)"
   ]
  },
  {
   "cell_type": "markdown",
   "id": "1e49baf9",
   "metadata": {},
   "source": [
    "### Run concept recognition and relationship detection on the test set"
   ]
  },
  {
   "cell_type": "code",
   "execution_count": 10,
   "id": "cf14bf5e",
   "metadata": {},
   "outputs": [
    {
     "name": "stdout",
     "output_type": "stream",
     "text": [
      "Number of unique tokens in each category: [34, 60, 14, 21, 13, 44, 34, 6, 10]\n",
      "Number of unique tokens in each category after expanding: [34, 60, 14, 22, 13, 44, 34, 6, 10]\n",
      "Number of unique tokens in each termset: [28, 6, 28, 6]\n",
      "concept\n",
      "ClinicalQuery                0.83\n",
      "FungalDescriptor             0.80\n",
      "Fungus                       0.94\n",
      "Invasiveness                 0.33\n",
      "Stain                        0.94\n",
      "SampleType                   0.13\n",
      "positive                     0.04\n",
      "equivocal                    0.00\n",
      "negative                     0.10\n",
      "affirmed_FungalDescriptor    0.41\n",
      "affirmed_Fungus              0.67\n",
      "affirmed_Invasiveness        0.00\n",
      "affirmed_Stain               0.00\n",
      "negated_FungalDescriptor     0.84\n",
      "negated_Fungus               0.89\n",
      "negated_Invasiveness         1.00\n",
      "negated_Stain                0.04\n",
      "dtype: float64\n",
      "concept\n",
      "ClinicalQuery                0.71\n",
      "FungalDescriptor             0.98\n",
      "Fungus                       0.94\n",
      "Invasiveness                 0.33\n",
      "Stain                        0.97\n",
      "SampleType                   0.72\n",
      "positive                     0.80\n",
      "equivocal                     NaN\n",
      "negative                     1.00\n",
      "affirmed_FungalDescriptor    0.53\n",
      "affirmed_Fungus              0.67\n",
      "affirmed_Invasiveness         NaN\n",
      "affirmed_Stain                NaN\n",
      "negated_FungalDescriptor     0.91\n",
      "negated_Fungus               0.80\n",
      "negated_Invasiveness         0.50\n",
      "negated_Stain                1.00\n",
      "dtype: float64\n"
     ]
    },
    {
     "name": "stderr",
     "output_type": "stream",
     "text": [
      "/Users/vrozova/Library/CloudStorage/OneDrive-TheUniversityofMelbourne/IFIS/Analysis/chifir-jbi/code/utils/eval_ner.py:119: FutureWarning: The default of observed=False is deprecated and will be changed to True in a future version of pandas. Pass observed=False to retain current behavior or observed=True to adopt the future default and silence this warning.\n",
      "  print(counts.groupby('concept').apply(precision).round(2))\n",
      "/Users/vrozova/Library/CloudStorage/OneDrive-TheUniversityofMelbourne/IFIS/Analysis/chifir-jbi/code/utils/eval_ner.py:122: FutureWarning: The default of observed=False is deprecated and will be changed to True in a future version of pandas. Pass observed=False to retain current behavior or observed=True to adopt the future default and silence this warning.\n",
      "  print(counts.groupby('concept').apply(recall).round(2))\n",
      "/Users/vrozova/Library/CloudStorage/OneDrive-TheUniversityofMelbourne/IFIS/Analysis/chifir-jbi/code/utils/eval_ner.py:30: RuntimeWarning: invalid value encountered in scalar divide\n",
      "  return x.tp.sum() / (x.tp.sum()+x.fn.sum())\n"
     ]
    }
   ],
   "source": [
    "# Load the development set\n",
    "df_test = pd.read_csv(\"../datasets/reports_test.csv\")\n",
    "\n",
    "# Clean data\n",
    "df_test['clean_text'] = df_test.order_results.apply(text.clean_text)\n",
    "\n",
    "# Learn vocabulary and termsets\n",
    "vocab = text.learn_vocab(df.histopathology_id, expand=True)\n",
    "termset = text.learn_termset(df.histopathology_id)\n",
    "\n",
    "# Load NLP pipeline\n",
    "nlp = text.build_nlp_pipeline(termset)\n",
    "\n",
    "# Match phrases in text to detect concepts\n",
    "df_test['doc'] = text.detect_concepts(df_test.clean_text, nlp, vocab)\n",
    "\n",
    "# Transform predictions to a table of concepts\n",
    "detected_concepts = text.get_concepts(df_test)\n",
    "\n",
    "# Load gold standard concepts\n",
    "concepts = text.load_annotations('composite')\n",
    "\n",
    "# Get feature names\n",
    "feature_names = prod.get_feature_names(['concepts','composite'])\n",
    "\n",
    "# Calculate precision and recall\n",
    "eval_ner.evaluate_ner(df_test[['histopathology_id', 'val_fold']], \n",
    "                      concepts, detected_concepts, feature_names)"
   ]
  },
  {
   "cell_type": "markdown",
   "id": "c90f726c",
   "metadata": {},
   "source": [
    "### Run relationship detection using gold standard annotations on the test set"
   ]
  },
  {
   "cell_type": "code",
   "execution_count": 11,
   "id": "88d4622e",
   "metadata": {},
   "outputs": [
    {
     "name": "stdout",
     "output_type": "stream",
     "text": [
      "Number of unique tokens in each termset: [28, 6, 28, 6]\n"
     ]
    },
    {
     "name": "stderr",
     "output_type": "stream",
     "text": [
      "/Users/vrozova/Library/CloudStorage/OneDrive-TheUniversityofMelbourne/IFIS/Analysis/chifir-jbi/code/utils/text.py:296: SettingWithCopyWarning: \n",
      "A value is trying to be set on a copy of a slice from a DataFrame.\n",
      "Try using .loc[row_indexer,col_indexer] = value instead\n",
      "\n",
      "See the caveats in the documentation: https://pandas.pydata.org/pandas-docs/stable/user_guide/indexing.html#returning-a-view-versus-a-copy\n",
      "  df['doc'] = df.clean_text.apply(nlp)\n"
     ]
    },
    {
     "name": "stdout",
     "output_type": "stream",
     "text": [
      "concept\n",
      "ClinicalQuery                1.00\n",
      "FungalDescriptor             1.00\n",
      "Fungus                       1.00\n",
      "Invasiveness                 1.00\n",
      "Stain                        1.00\n",
      "SampleType                   1.00\n",
      "positive                     1.00\n",
      "equivocal                     NaN\n",
      "negative                     1.00\n",
      "affirmed_FungalDescriptor    0.60\n",
      "affirmed_Fungus              0.71\n",
      "affirmed_Invasiveness        0.00\n",
      "affirmed_Stain               0.00\n",
      "negated_FungalDescriptor     0.86\n",
      "negated_Fungus               0.86\n",
      "negated_Invasiveness         0.67\n",
      "negated_Stain                0.05\n",
      "dtype: float64\n",
      "concept\n",
      "ClinicalQuery                1.00\n",
      "FungalDescriptor             0.96\n",
      "Fungus                       0.89\n",
      "Invasiveness                 1.00\n",
      "Stain                        0.91\n",
      "SampleType                   1.00\n",
      "positive                     1.00\n",
      "equivocal                     NaN\n",
      "negative                     0.92\n",
      "affirmed_FungalDescriptor    0.53\n",
      "affirmed_Fungus              0.83\n",
      "affirmed_Invasiveness         NaN\n",
      "affirmed_Stain                NaN\n",
      "negated_FungalDescriptor     0.83\n",
      "negated_Fungus               0.60\n",
      "negated_Invasiveness         1.00\n",
      "negated_Stain                1.00\n",
      "dtype: float64\n"
     ]
    },
    {
     "name": "stderr",
     "output_type": "stream",
     "text": [
      "/Users/vrozova/Library/CloudStorage/OneDrive-TheUniversityofMelbourne/IFIS/Analysis/chifir-jbi/code/utils/eval_ner.py:119: FutureWarning: The default of observed=False is deprecated and will be changed to True in a future version of pandas. Pass observed=False to retain current behavior or observed=True to adopt the future default and silence this warning.\n",
      "  print(counts.groupby('concept').apply(precision).round(2))\n",
      "/Users/vrozova/Library/CloudStorage/OneDrive-TheUniversityofMelbourne/IFIS/Analysis/chifir-jbi/code/utils/eval_ner.py:20: RuntimeWarning: invalid value encountered in scalar divide\n",
      "  return x.tp.sum() / (x.tp.sum()+x.fp.sum())\n",
      "/Users/vrozova/Library/CloudStorage/OneDrive-TheUniversityofMelbourne/IFIS/Analysis/chifir-jbi/code/utils/eval_ner.py:122: FutureWarning: The default of observed=False is deprecated and will be changed to True in a future version of pandas. Pass observed=False to retain current behavior or observed=True to adopt the future default and silence this warning.\n",
      "  print(counts.groupby('concept').apply(recall).round(2))\n",
      "/Users/vrozova/Library/CloudStorage/OneDrive-TheUniversityofMelbourne/IFIS/Analysis/chifir-jbi/code/utils/eval_ner.py:30: RuntimeWarning: invalid value encountered in scalar divide\n",
      "  return x.tp.sum() / (x.tp.sum()+x.fn.sum())\n"
     ]
    }
   ],
   "source": [
    "# Load the development set\n",
    "df_test = pd.read_csv(\"../datasets/reports_test.csv\")\n",
    "\n",
    "# Clean data\n",
    "df_test['clean_text'] = df_test.order_results.apply(text.clean_text)\n",
    "\n",
    "# Learn termsets\n",
    "termset = text.learn_termset(df.histopathology_id)\n",
    "\n",
    "# Load NLP pipeline\n",
    "nlp = text.build_nlp_pipeline(termset)\n",
    "\n",
    "# Label known concepts\n",
    "df_test['doc'] = text.label_concepts(df_test[['histopathology_id', 'clean_text']], nlp)\n",
    "\n",
    "# Transform predictions to a table of concepts\n",
    "detected_concepts = text.get_concepts(df_test)\n",
    "\n",
    "# Load gold standard concepts\n",
    "concepts = text.load_annotations('composite')\n",
    "\n",
    "# Get feature names\n",
    "feature_names = prod.get_feature_names(['concepts','composite'])\n",
    "\n",
    "# Calculate precision and recall\n",
    "eval_ner.evaluate_ner(df_test[['histopathology_id', 'val_fold']], \n",
    "                      concepts, detected_concepts, feature_names)"
   ]
  },
  {
   "cell_type": "code",
   "execution_count": null,
   "id": "7c8763f2",
   "metadata": {},
   "outputs": [],
   "source": []
  }
 ],
 "metadata": {
  "kernelspec": {
   "display_name": "Python 3 (ipykernel)",
   "language": "python",
   "name": "python3"
  },
  "language_info": {
   "codemirror_mode": {
    "name": "ipython",
    "version": 3
   },
   "file_extension": ".py",
   "mimetype": "text/x-python",
   "name": "python",
   "nbconvert_exporter": "python",
   "pygments_lexer": "ipython3",
   "version": "3.11.7"
  }
 },
 "nbformat": 4,
 "nbformat_minor": 5
}
